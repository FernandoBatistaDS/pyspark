{
 "cells": [
  {
   "cell_type": "code",
   "execution_count": 1,
   "id": "c11ebc21-a2fb-4b79-96e6-1949757b7ed6",
   "metadata": {},
   "outputs": [],
   "source": [
    "import pandas as pd\n",
    "import numpy as np"
   ]
  },
  {
   "cell_type": "code",
   "execution_count": 2,
   "id": "01065081-6b3e-42d5-878f-0faa36cdc983",
   "metadata": {},
   "outputs": [],
   "source": [
    "from pyspark.sql import SparkSession\n",
    "from pyspark.sql.types import StructType, StructField, StringType, DoubleType\n",
    "from pyspark.sql import functions as f\n"
   ]
  },
  {
   "cell_type": "code",
   "execution_count": 3,
   "id": "75cb04d5-a9dc-4f3a-a813-176de90a3776",
   "metadata": {},
   "outputs": [],
   "source": [
    "import findspark\n",
    "findspark.init()"
   ]
  },
  {
   "cell_type": "code",
   "execution_count": 4,
   "id": "2a4890d4-4778-4924-b3a7-ba7992cd7890",
   "metadata": {},
   "outputs": [
    {
     "data": {
      "text/html": [
       "<style>pre { white-space: pre !important; }</style>"
      ],
      "text/plain": [
       "<IPython.core.display.HTML object>"
      ]
     },
     "metadata": {},
     "output_type": "display_data"
    }
   ],
   "source": [
    "from IPython.core.display import HTML\n",
    "display(HTML(\"<style>pre { white-space: pre !important; }</style>\"))"
   ]
  },
  {
   "cell_type": "code",
   "execution_count": 5,
   "id": "08c43ac1-4da3-446a-9448-0578990553bb",
   "metadata": {},
   "outputs": [],
   "source": [
    "import os"
   ]
  },
  {
   "cell_type": "markdown",
   "id": "26b49085-66ac-4aeb-87e9-d6f3f00310e6",
   "metadata": {},
   "source": [
    "### Criando uma sessão do PySpark"
   ]
  },
  {
   "cell_type": "code",
   "execution_count": 6,
   "id": "0af9ef44-4f76-42f3-a802-eacc6268812d",
   "metadata": {},
   "outputs": [],
   "source": [
    "\n",
    "# spark = SparkSession.builder \\\n",
    "#             .master('local[*]') \\\n",
    "#             .appName('Iniciando com Spark') \\\n",
    "#             .getOrCreate()"
   ]
  },
  {
   "cell_type": "code",
   "execution_count": 7,
   "id": "3f9d03ce-b1cc-46dc-bd5b-076b7e42cfa3",
   "metadata": {},
   "outputs": [],
   "source": [
    "# spark"
   ]
  },
  {
   "cell_type": "code",
   "execution_count": 8,
   "id": "f58567b7-107b-404f-8c8c-0e09a3af9e61",
   "metadata": {},
   "outputs": [
    {
     "name": "stderr",
     "output_type": "stream",
     "text": [
      "----------------------------------------\n",
      "Exception occurred during processing of request from ('127.0.0.1', 59010)\n",
      "Traceback (most recent call last):\n",
      "  File \"C:\\Users\\ferna\\AppData\\Local\\Programs\\Python\\Python311\\Lib\\socketserver.py\", line 317, in _handle_request_noblock\n",
      "    self.process_request(request, client_address)\n",
      "  File \"C:\\Users\\ferna\\AppData\\Local\\Programs\\Python\\Python311\\Lib\\socketserver.py\", line 348, in process_request\n",
      "    self.finish_request(request, client_address)\n",
      "  File \"C:\\Users\\ferna\\AppData\\Local\\Programs\\Python\\Python311\\Lib\\socketserver.py\", line 361, in finish_request\n",
      "    self.RequestHandlerClass(request, client_address, self)\n",
      "  File \"C:\\Users\\ferna\\AppData\\Local\\Programs\\Python\\Python311\\Lib\\socketserver.py\", line 755, in __init__\n",
      "    self.handle()\n",
      "  File \"D:\\Spark\\.venv\\Lib\\site-packages\\pyspark\\accumulators.py\", line 295, in handle\n",
      "    poll(accum_updates)\n",
      "  File \"D:\\Spark\\.venv\\Lib\\site-packages\\pyspark\\accumulators.py\", line 267, in poll\n",
      "    if self.rfile in r and func():\n",
      "                           ^^^^^^\n",
      "  File \"D:\\Spark\\.venv\\Lib\\site-packages\\pyspark\\accumulators.py\", line 271, in accum_updates\n",
      "    num_updates = read_int(self.rfile)\n",
      "                  ^^^^^^^^^^^^^^^^^^^^\n",
      "  File \"D:\\Spark\\.venv\\Lib\\site-packages\\pyspark\\serializers.py\", line 594, in read_int\n",
      "    length = stream.read(4)\n",
      "             ^^^^^^^^^^^^^^\n",
      "  File \"C:\\Users\\ferna\\AppData\\Local\\Programs\\Python\\Python311\\Lib\\socket.py\", line 706, in readinto\n",
      "    return self._sock.recv_into(b)\n",
      "           ^^^^^^^^^^^^^^^^^^^^^^^\n",
      "ConnectionResetError: [WinError 10054] Foi forçado o cancelamento de uma conexão existente pelo host remoto\n",
      "----------------------------------------\n"
     ]
    }
   ],
   "source": [
    "spark = SparkSession.builder \\\n",
    "            .master('local[*]') \\\n",
    "            .appName('Iniciando com Spark') \\\n",
    "            .config('spark.ui.port', '4050') \\\n",
    "            .getOrCreate()"
   ]
  },
  {
   "cell_type": "markdown",
   "id": "4aaf7416-877e-40b8-ab2a-bf6ed5c83e3e",
   "metadata": {},
   "source": [
    "Site ngrok\n"
   ]
  },
  {
   "cell_type": "code",
   "execution_count": 9,
   "id": "c9b88c6e-572d-4826-8e38-21fb3e9aa231",
   "metadata": {},
   "outputs": [],
   "source": [
    "# from pyngrok import ngrok"
   ]
  },
  {
   "cell_type": "code",
   "execution_count": 10,
   "id": "e80971f6-2c4f-40d7-8fc5-83b5b1675eaf",
   "metadata": {},
   "outputs": [],
   "source": [
    "# !ngrok authtoken \"MEU COD\""
   ]
  },
  {
   "cell_type": "code",
   "execution_count": 11,
   "id": "74d900d3-f5d6-4d1b-a8c5-f84fe2918b56",
   "metadata": {},
   "outputs": [],
   "source": [
    "# ngrok.connect('4050')"
   ]
  },
  {
   "cell_type": "code",
   "execution_count": 12,
   "id": "b2a9a3c3-8812-41e2-b878-f3a386011d10",
   "metadata": {},
   "outputs": [],
   "source": [
    "data = [('Zeca', '35'), ('Eva', '29')]\n",
    "colNames = ['Nome', 'Idade']"
   ]
  },
  {
   "cell_type": "code",
   "execution_count": 13,
   "id": "2ebc29c8-8dd1-45b7-941a-019906379428",
   "metadata": {},
   "outputs": [],
   "source": [
    "df = spark.createDataFrame(data, colNames)"
   ]
  },
  {
   "cell_type": "code",
   "execution_count": 14,
   "id": "71be9f55-ff3d-4e4a-9a89-04ab6b241f37",
   "metadata": {},
   "outputs": [
    {
     "name": "stdout",
     "output_type": "stream",
     "text": [
      "+----+-----+\n",
      "|Nome|Idade|\n",
      "+----+-----+\n",
      "|Zeca|   35|\n",
      "| Eva|   29|\n",
      "+----+-----+\n",
      "\n"
     ]
    }
   ],
   "source": [
    "df.show()"
   ]
  },
  {
   "cell_type": "code",
   "execution_count": 15,
   "id": "ae73a8a9-0fb2-411b-b11f-0378d7c7b471",
   "metadata": {},
   "outputs": [
    {
     "data": {
      "text/html": [
       "<div>\n",
       "<style scoped>\n",
       "    .dataframe tbody tr th:only-of-type {\n",
       "        vertical-align: middle;\n",
       "    }\n",
       "\n",
       "    .dataframe tbody tr th {\n",
       "        vertical-align: top;\n",
       "    }\n",
       "\n",
       "    .dataframe thead th {\n",
       "        text-align: right;\n",
       "    }\n",
       "</style>\n",
       "<table border=\"1\" class=\"dataframe\">\n",
       "  <thead>\n",
       "    <tr style=\"text-align: right;\">\n",
       "      <th></th>\n",
       "      <th>Nome</th>\n",
       "      <th>Idade</th>\n",
       "    </tr>\n",
       "  </thead>\n",
       "  <tbody>\n",
       "    <tr>\n",
       "      <th>0</th>\n",
       "      <td>Zeca</td>\n",
       "      <td>35</td>\n",
       "    </tr>\n",
       "    <tr>\n",
       "      <th>1</th>\n",
       "      <td>Eva</td>\n",
       "      <td>29</td>\n",
       "    </tr>\n",
       "  </tbody>\n",
       "</table>\n",
       "</div>"
      ],
      "text/plain": [
       "   Nome Idade\n",
       "0  Zeca    35\n",
       "1   Eva    29"
      ]
     },
     "execution_count": 15,
     "metadata": {},
     "output_type": "execute_result"
    }
   ],
   "source": [
    "df.toPandas()"
   ]
  },
  {
   "cell_type": "markdown",
   "id": "28be4a93-840d-414a-af2b-3cb6cbb79a7e",
   "metadata": {},
   "source": [
    "ZipFile"
   ]
  },
  {
   "cell_type": "code",
   "execution_count": 16,
   "id": "d8217318-bc70-459e-a548-fa0a7a440486",
   "metadata": {},
   "outputs": [],
   "source": [
    "# import zipfile\n",
    "# zipfile.ZipFile('datasets/empresas.zip', 'r').extractall('datasets/')"
   ]
  },
  {
   "cell_type": "code",
   "execution_count": 17,
   "id": "fce804f0-55b5-497f-aea9-b79e632572d6",
   "metadata": {},
   "outputs": [],
   "source": [
    "def get_file_paths(dir_name):\n",
    "    dir_path = os.path.abspath(dir_name)\n",
    "    res = []\n",
    "    for path in os.listdir(dir_path):\n",
    "        if os.path.isfile(os.path.join(dir_path, path)):\n",
    "            res.append(os.path.join(dir_path, path))\n",
    "    return res\n",
    "\n",
    "# # Obtem os caminhos dos arquivos para cada diretório\n",
    "estabelecimentos_files = get_file_paths(\"datasets/estabelecimentos/\")\n",
    "socios_files = get_file_paths(\"datasets/socios/\")\n",
    "empresas_files = get_file_paths(\"datasets/empresas/\")\n",
    "\n",
    "# # Lê os arquivos em DataFrames Spark\n",
    "estabelecimentos_df = spark.read.csv(estabelecimentos_files, sep=';', inferSchema=True)\n",
    "socios_df = spark.read.csv(socios_files, sep=';', inferSchema=True)\n",
    "empresas_df = spark.read.csv(empresas_files, sep=';', inferSchema=True)\n"
   ]
  },
  {
   "cell_type": "code",
   "execution_count": 18,
   "id": "15b3c3da-af81-44c4-9a86-9e2eed178929",
   "metadata": {},
   "outputs": [
    {
     "data": {
      "text/plain": [
       "(4585679, 1934441, 2046430)"
      ]
     },
     "execution_count": 18,
     "metadata": {},
     "output_type": "execute_result"
    }
   ],
   "source": [
    "empresas_df.count(), estabelecimentos_df.count(), socios_df.count()\n",
    "# 4.585.679, # 4.836.219, # 2.046.430"
   ]
  },
  {
   "cell_type": "markdown",
   "id": "e206aa35-2446-4eea-a2a0-76b2d3269866",
   "metadata": {},
   "source": [
    "Manipulando os dados "
   ]
  },
  {
   "cell_type": "code",
   "execution_count": 19,
   "id": "8b0e433d-2bae-461b-bd9b-b1d45a76cd6d",
   "metadata": {},
   "outputs": [
    {
     "data": {
      "text/html": [
       "<div>\n",
       "<style scoped>\n",
       "    .dataframe tbody tr th:only-of-type {\n",
       "        vertical-align: middle;\n",
       "    }\n",
       "\n",
       "    .dataframe tbody tr th {\n",
       "        vertical-align: top;\n",
       "    }\n",
       "\n",
       "    .dataframe thead th {\n",
       "        text-align: right;\n",
       "    }\n",
       "</style>\n",
       "<table border=\"1\" class=\"dataframe\">\n",
       "  <thead>\n",
       "    <tr style=\"text-align: right;\">\n",
       "      <th></th>\n",
       "      <th>_c0</th>\n",
       "      <th>_c1</th>\n",
       "      <th>_c2</th>\n",
       "      <th>_c3</th>\n",
       "      <th>_c4</th>\n",
       "      <th>_c5</th>\n",
       "      <th>_c6</th>\n",
       "      <th>_c7</th>\n",
       "      <th>_c8</th>\n",
       "      <th>_c9</th>\n",
       "      <th>_c10</th>\n",
       "    </tr>\n",
       "  </thead>\n",
       "  <tbody>\n",
       "    <tr>\n",
       "      <th>0</th>\n",
       "      <td>11748</td>\n",
       "      <td>2</td>\n",
       "      <td>MARIO KATUMI HOSI</td>\n",
       "      <td>***504158**</td>\n",
       "      <td>49</td>\n",
       "      <td>19940530</td>\n",
       "      <td>NaN</td>\n",
       "      <td>***000000**</td>\n",
       "      <td>None</td>\n",
       "      <td>0</td>\n",
       "      <td>7</td>\n",
       "    </tr>\n",
       "    <tr>\n",
       "      <th>1</th>\n",
       "      <td>11748</td>\n",
       "      <td>2</td>\n",
       "      <td>ROBERTO YUKIO HOSI</td>\n",
       "      <td>***241578**</td>\n",
       "      <td>22</td>\n",
       "      <td>19940530</td>\n",
       "      <td>NaN</td>\n",
       "      <td>***000000**</td>\n",
       "      <td>None</td>\n",
       "      <td>0</td>\n",
       "      <td>7</td>\n",
       "    </tr>\n",
       "    <tr>\n",
       "      <th>2</th>\n",
       "      <td>13289</td>\n",
       "      <td>2</td>\n",
       "      <td>ANDREIA CRISTINA DELSIN</td>\n",
       "      <td>***787278**</td>\n",
       "      <td>65</td>\n",
       "      <td>20180615</td>\n",
       "      <td>NaN</td>\n",
       "      <td>***000000**</td>\n",
       "      <td>None</td>\n",
       "      <td>0</td>\n",
       "      <td>3</td>\n",
       "    </tr>\n",
       "    <tr>\n",
       "      <th>3</th>\n",
       "      <td>17389</td>\n",
       "      <td>2</td>\n",
       "      <td>MARCIA DO CANTO ARRUDA DAIER</td>\n",
       "      <td>***920408**</td>\n",
       "      <td>49</td>\n",
       "      <td>19940613</td>\n",
       "      <td>NaN</td>\n",
       "      <td>***000000**</td>\n",
       "      <td>None</td>\n",
       "      <td>0</td>\n",
       "      <td>7</td>\n",
       "    </tr>\n",
       "    <tr>\n",
       "      <th>4</th>\n",
       "      <td>19204</td>\n",
       "      <td>2</td>\n",
       "      <td>ALMIR CARLOS CAPELLINI</td>\n",
       "      <td>***299028**</td>\n",
       "      <td>49</td>\n",
       "      <td>19980908</td>\n",
       "      <td>NaN</td>\n",
       "      <td>***000000**</td>\n",
       "      <td>None</td>\n",
       "      <td>0</td>\n",
       "      <td>7</td>\n",
       "    </tr>\n",
       "  </tbody>\n",
       "</table>\n",
       "</div>"
      ],
      "text/plain": [
       "     _c0  _c1                           _c2          _c3  _c4       _c5  _c6  \\\n",
       "0  11748    2             MARIO KATUMI HOSI  ***504158**   49  19940530  NaN   \n",
       "1  11748    2            ROBERTO YUKIO HOSI  ***241578**   22  19940530  NaN   \n",
       "2  13289    2       ANDREIA CRISTINA DELSIN  ***787278**   65  20180615  NaN   \n",
       "3  17389    2  MARCIA DO CANTO ARRUDA DAIER  ***920408**   49  19940613  NaN   \n",
       "4  19204    2        ALMIR CARLOS CAPELLINI  ***299028**   49  19980908  NaN   \n",
       "\n",
       "           _c7   _c8  _c9  _c10  \n",
       "0  ***000000**  None    0     7  \n",
       "1  ***000000**  None    0     7  \n",
       "2  ***000000**  None    0     3  \n",
       "3  ***000000**  None    0     7  \n",
       "4  ***000000**  None    0     7  "
      ]
     },
     "execution_count": 19,
     "metadata": {},
     "output_type": "execute_result"
    }
   ],
   "source": [
    "socios_df.limit(5).toPandas()"
   ]
  },
  {
   "cell_type": "code",
   "execution_count": 20,
   "id": "90fd2ad9-51be-45d5-b7b7-69a78c3b2978",
   "metadata": {},
   "outputs": [],
   "source": [
    "empresasColNames = ['cnpj_basico', 'razao_social_nome_empresarial', 'natureza_juridica', 'qualificacao_do_responsavel', 'capital_social_da_empresa', 'porte_da_empresa', 'ente_federativo_responsavel']\n",
    "estabsColNames = ['cnpj_basico', 'cnpj_ordem', 'cnpj_dv', 'identificador_matriz_filial', 'nome_fantasia', 'situacao_cadastral', 'data_situacao_cadastral', 'motivo_situacao_cadastral', 'nome_da_cidade_no_exterior', 'pais', 'data_de_inicio_atividade', 'cnae_fiscal_principal', 'cnae_fiscal_secundaria', 'tipo_de_logradouro', 'logradouro', 'numero', 'complemento', 'bairro', 'cep', 'uf', 'municipio', 'ddd_1', 'telefone_1', 'ddd_2', 'telefone_2', 'ddd_do_fax', 'fax', 'correio_eletronico', 'situacao_especial', 'data_da_situacao_especial']\n",
    "sociosColNames = ['cnpj_basico', 'identificador_de_socio', 'nome_do_socio_ou_razao_social', 'cnpj_ou_cpf_do_socio', 'qualificacao_do_socio', 'data_de_entrada_sociedade', 'pais', 'representante_legal', 'nome_do_representante', 'qualificacao_do_representante_legal', 'faixa_etaria']"
   ]
  },
  {
   "cell_type": "code",
   "execution_count": 21,
   "id": "2067f8f8-35ce-44a4-b385-184429fb5d69",
   "metadata": {},
   "outputs": [],
   "source": [
    "for index,colName in enumerate(empresasColNames):\n",
    "        empresas_df = empresas_df.withColumnRenamed(f\"_c{index}\", colName)\n",
    "\n",
    "for index,colName in enumerate(estabsColNames):\n",
    "        estabelecimentos_df = estabelecimentos_df.withColumnRenamed(f\"_c{index}\", colName)\n",
    "\n",
    "for index,colName in enumerate(sociosColNames):\n",
    "        socios_df = socios_df.withColumnRenamed(f\"_c{index}\", colName)\n"
   ]
  },
  {
   "cell_type": "code",
   "execution_count": 22,
   "id": "54f90c94-96d0-47a2-9213-aa0796a33de3",
   "metadata": {},
   "outputs": [],
   "source": [
    "# empresas_df.columns\n",
    "# estabelecimentos_df.columns\n",
    "# socios_df.columns\n"
   ]
  },
  {
   "cell_type": "markdown",
   "id": "2c2cfc10-3372-4ae6-81ce-d92085a23b58",
   "metadata": {},
   "source": [
    "Analisando os dados"
   ]
  },
  {
   "cell_type": "code",
   "execution_count": 23,
   "id": "3f5bba2e-603c-480e-918c-ee54d7b88a04",
   "metadata": {},
   "outputs": [
    {
     "name": "stdout",
     "output_type": "stream",
     "text": [
      "root\n",
      " |-- cnpj_basico: integer (nullable = true)\n",
      " |-- razao_social_nome_empresarial: string (nullable = true)\n",
      " |-- natureza_juridica: integer (nullable = true)\n",
      " |-- qualificacao_do_responsavel: integer (nullable = true)\n",
      " |-- capital_social_da_empresa: string (nullable = true)\n",
      " |-- porte_da_empresa: integer (nullable = true)\n",
      " |-- ente_federativo_responsavel: string (nullable = true)\n",
      "\n"
     ]
    }
   ],
   "source": [
    "empresas_df.printSchema()"
   ]
  },
  {
   "cell_type": "code",
   "execution_count": 24,
   "id": "8e416a2b-92bd-44e1-9507-62cb1a19fe38",
   "metadata": {},
   "outputs": [
    {
     "name": "stdout",
     "output_type": "stream",
     "text": [
      "root\n",
      " |-- cnpj_basico: integer (nullable = true)\n",
      " |-- identificador_de_socio: integer (nullable = true)\n",
      " |-- nome_do_socio_ou_razao_social: string (nullable = true)\n",
      " |-- cnpj_ou_cpf_do_socio: string (nullable = true)\n",
      " |-- qualificacao_do_socio: integer (nullable = true)\n",
      " |-- data_de_entrada_sociedade: integer (nullable = true)\n",
      " |-- pais: integer (nullable = true)\n",
      " |-- representante_legal: string (nullable = true)\n",
      " |-- nome_do_representante: string (nullable = true)\n",
      " |-- qualificacao_do_representante_legal: integer (nullable = true)\n",
      " |-- faixa_etaria: integer (nullable = true)\n",
      "\n"
     ]
    }
   ],
   "source": [
    "socios_df.printSchema()"
   ]
  },
  {
   "cell_type": "code",
   "execution_count": 25,
   "id": "9a43b740-00f5-440e-9f53-584ae2f9964b",
   "metadata": {},
   "outputs": [
    {
     "name": "stdout",
     "output_type": "stream",
     "text": [
      "root\n",
      " |-- cnpj_basico: integer (nullable = true)\n",
      " |-- cnpj_ordem: integer (nullable = true)\n",
      " |-- cnpj_dv: integer (nullable = true)\n",
      " |-- identificador_matriz_filial: integer (nullable = true)\n",
      " |-- nome_fantasia: string (nullable = true)\n",
      " |-- situacao_cadastral: integer (nullable = true)\n",
      " |-- data_situacao_cadastral: integer (nullable = true)\n",
      " |-- motivo_situacao_cadastral: integer (nullable = true)\n",
      " |-- nome_da_cidade_no_exterior: string (nullable = true)\n",
      " |-- pais: integer (nullable = true)\n",
      " |-- data_de_inicio_atividade: integer (nullable = true)\n",
      " |-- cnae_fiscal_principal: integer (nullable = true)\n",
      " |-- cnae_fiscal_secundaria: string (nullable = true)\n",
      " |-- tipo_de_logradouro: string (nullable = true)\n",
      " |-- logradouro: string (nullable = true)\n",
      " |-- numero: string (nullable = true)\n",
      " |-- complemento: string (nullable = true)\n",
      " |-- bairro: string (nullable = true)\n",
      " |-- cep: integer (nullable = true)\n",
      " |-- uf: string (nullable = true)\n",
      " |-- municipio: integer (nullable = true)\n",
      " |-- ddd_1: string (nullable = true)\n",
      " |-- telefone_1: string (nullable = true)\n",
      " |-- ddd_2: integer (nullable = true)\n",
      " |-- telefone_2: string (nullable = true)\n",
      " |-- ddd_do_fax: integer (nullable = true)\n",
      " |-- fax: string (nullable = true)\n",
      " |-- correio_eletronico: string (nullable = true)\n",
      " |-- situacao_especial: string (nullable = true)\n",
      " |-- data_da_situacao_especial: integer (nullable = true)\n",
      "\n"
     ]
    }
   ],
   "source": [
    "estabelecimentos_df.printSchema()"
   ]
  },
  {
   "cell_type": "markdown",
   "id": "600dd989-8552-4508-b785-7948f309bbf5",
   "metadata": {},
   "source": [
    "Converter String -> Double\n",
    "<br>\n",
    "´StringType -> DoubleType´"
   ]
  },
  {
   "cell_type": "code",
   "execution_count": 26,
   "id": "3afaa75b-5de9-4e90-8d1f-10fe913db258",
   "metadata": {},
   "outputs": [
    {
     "name": "stdout",
     "output_type": "stream",
     "text": [
      "root\n",
      " |-- cnpj_basico: integer (nullable = true)\n",
      " |-- razao_social_nome_empresarial: string (nullable = true)\n",
      " |-- natureza_juridica: integer (nullable = true)\n",
      " |-- qualificacao_do_responsavel: integer (nullable = true)\n",
      " |-- capital_social_da_empresa: string (nullable = true)\n",
      " |-- porte_da_empresa: integer (nullable = true)\n",
      " |-- ente_federativo_responsavel: string (nullable = true)\n",
      "\n"
     ]
    }
   ],
   "source": [
    "empresas_df.printSchema()"
   ]
  },
  {
   "cell_type": "code",
   "execution_count": 27,
   "id": "8e39fc74-a77b-464d-88c1-73bc62b6d64f",
   "metadata": {},
   "outputs": [
    {
     "data": {
      "text/html": [
       "<div>\n",
       "<style scoped>\n",
       "    .dataframe tbody tr th:only-of-type {\n",
       "        vertical-align: middle;\n",
       "    }\n",
       "\n",
       "    .dataframe tbody tr th {\n",
       "        vertical-align: top;\n",
       "    }\n",
       "\n",
       "    .dataframe thead th {\n",
       "        text-align: right;\n",
       "    }\n",
       "</style>\n",
       "<table border=\"1\" class=\"dataframe\">\n",
       "  <thead>\n",
       "    <tr style=\"text-align: right;\">\n",
       "      <th></th>\n",
       "      <th>cnpj_basico</th>\n",
       "      <th>razao_social_nome_empresarial</th>\n",
       "      <th>natureza_juridica</th>\n",
       "      <th>qualificacao_do_responsavel</th>\n",
       "      <th>capital_social_da_empresa</th>\n",
       "      <th>porte_da_empresa</th>\n",
       "      <th>ente_federativo_responsavel</th>\n",
       "    </tr>\n",
       "  </thead>\n",
       "  <tbody>\n",
       "    <tr>\n",
       "      <th>0</th>\n",
       "      <td>4519</td>\n",
       "      <td>DANIELA DA SILVA CRUZ</td>\n",
       "      <td>2135</td>\n",
       "      <td>50</td>\n",
       "      <td>0,00</td>\n",
       "      <td>5</td>\n",
       "      <td>None</td>\n",
       "    </tr>\n",
       "    <tr>\n",
       "      <th>1</th>\n",
       "      <td>8638</td>\n",
       "      <td>JOAO DOS SANTOS FAGUNDES</td>\n",
       "      <td>2135</td>\n",
       "      <td>50</td>\n",
       "      <td>0,00</td>\n",
       "      <td>5</td>\n",
       "      <td>None</td>\n",
       "    </tr>\n",
       "    <tr>\n",
       "      <th>2</th>\n",
       "      <td>11748</td>\n",
       "      <td>PANIFICADORA E CONFEITARIA CONFIANCA RIO PRETO...</td>\n",
       "      <td>2062</td>\n",
       "      <td>49</td>\n",
       "      <td>0,00</td>\n",
       "      <td>1</td>\n",
       "      <td>None</td>\n",
       "    </tr>\n",
       "    <tr>\n",
       "      <th>3</th>\n",
       "      <td>12027</td>\n",
       "      <td>L G SORVETERIA LTDA</td>\n",
       "      <td>2062</td>\n",
       "      <td>49</td>\n",
       "      <td>0,00</td>\n",
       "      <td>5</td>\n",
       "      <td>None</td>\n",
       "    </tr>\n",
       "    <tr>\n",
       "      <th>4</th>\n",
       "      <td>13289</td>\n",
       "      <td>ANDREIA CRISTINA DELSIN EIRELI</td>\n",
       "      <td>2305</td>\n",
       "      <td>65</td>\n",
       "      <td>100000,00</td>\n",
       "      <td>1</td>\n",
       "      <td>None</td>\n",
       "    </tr>\n",
       "  </tbody>\n",
       "</table>\n",
       "</div>"
      ],
      "text/plain": [
       "   cnpj_basico                      razao_social_nome_empresarial  \\\n",
       "0         4519                              DANIELA DA SILVA CRUZ   \n",
       "1         8638                           JOAO DOS SANTOS FAGUNDES   \n",
       "2        11748  PANIFICADORA E CONFEITARIA CONFIANCA RIO PRETO...   \n",
       "3        12027                                L G SORVETERIA LTDA   \n",
       "4        13289                     ANDREIA CRISTINA DELSIN EIRELI   \n",
       "\n",
       "   natureza_juridica  qualificacao_do_responsavel capital_social_da_empresa  \\\n",
       "0               2135                           50                      0,00   \n",
       "1               2135                           50                      0,00   \n",
       "2               2062                           49                      0,00   \n",
       "3               2062                           49                      0,00   \n",
       "4               2305                           65                 100000,00   \n",
       "\n",
       "   porte_da_empresa ente_federativo_responsavel  \n",
       "0                 5                        None  \n",
       "1                 5                        None  \n",
       "2                 1                        None  \n",
       "3                 5                        None  \n",
       "4                 1                        None  "
      ]
     },
     "execution_count": 27,
     "metadata": {},
     "output_type": "execute_result"
    }
   ],
   "source": [
    "empresas_df.limit(5).toPandas()"
   ]
  },
  {
   "cell_type": "code",
   "execution_count": 28,
   "id": "42e138ca-9d41-460b-a2f6-2fb04173210b",
   "metadata": {},
   "outputs": [
    {
     "data": {
      "text/html": [
       "<div>\n",
       "<style scoped>\n",
       "    .dataframe tbody tr th:only-of-type {\n",
       "        vertical-align: middle;\n",
       "    }\n",
       "\n",
       "    .dataframe tbody tr th {\n",
       "        vertical-align: top;\n",
       "    }\n",
       "\n",
       "    .dataframe thead th {\n",
       "        text-align: right;\n",
       "    }\n",
       "</style>\n",
       "<table border=\"1\" class=\"dataframe\">\n",
       "  <thead>\n",
       "    <tr style=\"text-align: right;\">\n",
       "      <th></th>\n",
       "      <th>cnpj_basico</th>\n",
       "      <th>razao_social_nome_empresarial</th>\n",
       "      <th>natureza_juridica</th>\n",
       "      <th>qualificacao_do_responsavel</th>\n",
       "      <th>capital_social_da_empresa</th>\n",
       "      <th>porte_da_empresa</th>\n",
       "      <th>ente_federativo_responsavel</th>\n",
       "    </tr>\n",
       "  </thead>\n",
       "  <tbody>\n",
       "    <tr>\n",
       "      <th>0</th>\n",
       "      <td>4519</td>\n",
       "      <td>DANIELA DA SILVA CRUZ</td>\n",
       "      <td>2135</td>\n",
       "      <td>50</td>\n",
       "      <td>0.00</td>\n",
       "      <td>5</td>\n",
       "      <td>None</td>\n",
       "    </tr>\n",
       "    <tr>\n",
       "      <th>1</th>\n",
       "      <td>8638</td>\n",
       "      <td>JOAO DOS SANTOS FAGUNDES</td>\n",
       "      <td>2135</td>\n",
       "      <td>50</td>\n",
       "      <td>0.00</td>\n",
       "      <td>5</td>\n",
       "      <td>None</td>\n",
       "    </tr>\n",
       "    <tr>\n",
       "      <th>2</th>\n",
       "      <td>11748</td>\n",
       "      <td>PANIFICADORA E CONFEITARIA CONFIANCA RIO PRETO...</td>\n",
       "      <td>2062</td>\n",
       "      <td>49</td>\n",
       "      <td>0.00</td>\n",
       "      <td>1</td>\n",
       "      <td>None</td>\n",
       "    </tr>\n",
       "    <tr>\n",
       "      <th>3</th>\n",
       "      <td>12027</td>\n",
       "      <td>L G SORVETERIA LTDA</td>\n",
       "      <td>2062</td>\n",
       "      <td>49</td>\n",
       "      <td>0.00</td>\n",
       "      <td>5</td>\n",
       "      <td>None</td>\n",
       "    </tr>\n",
       "    <tr>\n",
       "      <th>4</th>\n",
       "      <td>13289</td>\n",
       "      <td>ANDREIA CRISTINA DELSIN EIRELI</td>\n",
       "      <td>2305</td>\n",
       "      <td>65</td>\n",
       "      <td>100000.00</td>\n",
       "      <td>1</td>\n",
       "      <td>None</td>\n",
       "    </tr>\n",
       "  </tbody>\n",
       "</table>\n",
       "</div>"
      ],
      "text/plain": [
       "   cnpj_basico                      razao_social_nome_empresarial  \\\n",
       "0         4519                              DANIELA DA SILVA CRUZ   \n",
       "1         8638                           JOAO DOS SANTOS FAGUNDES   \n",
       "2        11748  PANIFICADORA E CONFEITARIA CONFIANCA RIO PRETO...   \n",
       "3        12027                                L G SORVETERIA LTDA   \n",
       "4        13289                     ANDREIA CRISTINA DELSIN EIRELI   \n",
       "\n",
       "   natureza_juridica  qualificacao_do_responsavel capital_social_da_empresa  \\\n",
       "0               2135                           50                      0.00   \n",
       "1               2135                           50                      0.00   \n",
       "2               2062                           49                      0.00   \n",
       "3               2062                           49                      0.00   \n",
       "4               2305                           65                 100000.00   \n",
       "\n",
       "   porte_da_empresa ente_federativo_responsavel  \n",
       "0                 5                        None  \n",
       "1                 5                        None  \n",
       "2                 1                        None  \n",
       "3                 5                        None  \n",
       "4                 1                        None  "
      ]
     },
     "execution_count": 28,
     "metadata": {},
     "output_type": "execute_result"
    }
   ],
   "source": [
    "empresas_df = empresas_df.withColumn('capital_social_da_empresa', f.regexp_replace('capital_social_da_empresa', ',', '.'))\n",
    "empresas_df.limit(5).toPandas()"
   ]
  },
  {
   "cell_type": "code",
   "execution_count": 29,
   "id": "71643aa8-0928-4e82-8a96-365e697a6c57",
   "metadata": {},
   "outputs": [
    {
     "data": {
      "text/html": [
       "<div>\n",
       "<style scoped>\n",
       "    .dataframe tbody tr th:only-of-type {\n",
       "        vertical-align: middle;\n",
       "    }\n",
       "\n",
       "    .dataframe tbody tr th {\n",
       "        vertical-align: top;\n",
       "    }\n",
       "\n",
       "    .dataframe thead th {\n",
       "        text-align: right;\n",
       "    }\n",
       "</style>\n",
       "<table border=\"1\" class=\"dataframe\">\n",
       "  <thead>\n",
       "    <tr style=\"text-align: right;\">\n",
       "      <th></th>\n",
       "      <th>cnpj_basico</th>\n",
       "      <th>razao_social_nome_empresarial</th>\n",
       "      <th>natureza_juridica</th>\n",
       "      <th>qualificacao_do_responsavel</th>\n",
       "      <th>capital_social_da_empresa</th>\n",
       "      <th>porte_da_empresa</th>\n",
       "      <th>ente_federativo_responsavel</th>\n",
       "    </tr>\n",
       "  </thead>\n",
       "  <tbody>\n",
       "    <tr>\n",
       "      <th>0</th>\n",
       "      <td>4519</td>\n",
       "      <td>DANIELA DA SILVA CRUZ</td>\n",
       "      <td>2135</td>\n",
       "      <td>50</td>\n",
       "      <td>0.0</td>\n",
       "      <td>5</td>\n",
       "      <td>None</td>\n",
       "    </tr>\n",
       "    <tr>\n",
       "      <th>1</th>\n",
       "      <td>8638</td>\n",
       "      <td>JOAO DOS SANTOS FAGUNDES</td>\n",
       "      <td>2135</td>\n",
       "      <td>50</td>\n",
       "      <td>0.0</td>\n",
       "      <td>5</td>\n",
       "      <td>None</td>\n",
       "    </tr>\n",
       "    <tr>\n",
       "      <th>2</th>\n",
       "      <td>11748</td>\n",
       "      <td>PANIFICADORA E CONFEITARIA CONFIANCA RIO PRETO...</td>\n",
       "      <td>2062</td>\n",
       "      <td>49</td>\n",
       "      <td>0.0</td>\n",
       "      <td>1</td>\n",
       "      <td>None</td>\n",
       "    </tr>\n",
       "    <tr>\n",
       "      <th>3</th>\n",
       "      <td>12027</td>\n",
       "      <td>L G SORVETERIA LTDA</td>\n",
       "      <td>2062</td>\n",
       "      <td>49</td>\n",
       "      <td>0.0</td>\n",
       "      <td>5</td>\n",
       "      <td>None</td>\n",
       "    </tr>\n",
       "    <tr>\n",
       "      <th>4</th>\n",
       "      <td>13289</td>\n",
       "      <td>ANDREIA CRISTINA DELSIN EIRELI</td>\n",
       "      <td>2305</td>\n",
       "      <td>65</td>\n",
       "      <td>100000.0</td>\n",
       "      <td>1</td>\n",
       "      <td>None</td>\n",
       "    </tr>\n",
       "  </tbody>\n",
       "</table>\n",
       "</div>"
      ],
      "text/plain": [
       "   cnpj_basico                      razao_social_nome_empresarial  \\\n",
       "0         4519                              DANIELA DA SILVA CRUZ   \n",
       "1         8638                           JOAO DOS SANTOS FAGUNDES   \n",
       "2        11748  PANIFICADORA E CONFEITARIA CONFIANCA RIO PRETO...   \n",
       "3        12027                                L G SORVETERIA LTDA   \n",
       "4        13289                     ANDREIA CRISTINA DELSIN EIRELI   \n",
       "\n",
       "   natureza_juridica  qualificacao_do_responsavel  capital_social_da_empresa  \\\n",
       "0               2135                           50                        0.0   \n",
       "1               2135                           50                        0.0   \n",
       "2               2062                           49                        0.0   \n",
       "3               2062                           49                        0.0   \n",
       "4               2305                           65                   100000.0   \n",
       "\n",
       "   porte_da_empresa ente_federativo_responsavel  \n",
       "0                 5                        None  \n",
       "1                 5                        None  \n",
       "2                 1                        None  \n",
       "3                 5                        None  \n",
       "4                 1                        None  "
      ]
     },
     "execution_count": 29,
     "metadata": {},
     "output_type": "execute_result"
    }
   ],
   "source": [
    "empresas_df = empresas_df.withColumn('capital_social_da_empresa', empresas_df['capital_social_da_empresa'].cast(DoubleType()))\n",
    "empresas_df.limit(5).toPandas()"
   ]
  },
  {
   "cell_type": "code",
   "execution_count": 30,
   "id": "7b40c888-d964-4150-8b95-68fcb3095514",
   "metadata": {},
   "outputs": [
    {
     "name": "stdout",
     "output_type": "stream",
     "text": [
      "root\n",
      " |-- cnpj_basico: integer (nullable = true)\n",
      " |-- razao_social_nome_empresarial: string (nullable = true)\n",
      " |-- natureza_juridica: integer (nullable = true)\n",
      " |-- qualificacao_do_responsavel: integer (nullable = true)\n",
      " |-- capital_social_da_empresa: double (nullable = true)\n",
      " |-- porte_da_empresa: integer (nullable = true)\n",
      " |-- ente_federativo_responsavel: string (nullable = true)\n",
      "\n"
     ]
    }
   ],
   "source": [
    "empresas_df.printSchema()"
   ]
  },
  {
   "cell_type": "code",
   "execution_count": 31,
   "id": "e39e2fda-9c21-41b1-8854-4fba4e330620",
   "metadata": {},
   "outputs": [
    {
     "data": {
      "text/html": [
       "<div>\n",
       "<style scoped>\n",
       "    .dataframe tbody tr th:only-of-type {\n",
       "        vertical-align: middle;\n",
       "    }\n",
       "\n",
       "    .dataframe tbody tr th {\n",
       "        vertical-align: top;\n",
       "    }\n",
       "\n",
       "    .dataframe thead th {\n",
       "        text-align: right;\n",
       "    }\n",
       "</style>\n",
       "<table border=\"1\" class=\"dataframe\">\n",
       "  <thead>\n",
       "    <tr style=\"text-align: right;\">\n",
       "      <th></th>\n",
       "      <th>data</th>\n",
       "    </tr>\n",
       "  </thead>\n",
       "  <tbody>\n",
       "    <tr>\n",
       "      <th>0</th>\n",
       "      <td>20200924</td>\n",
       "    </tr>\n",
       "    <tr>\n",
       "      <th>1</th>\n",
       "      <td>20201022</td>\n",
       "    </tr>\n",
       "    <tr>\n",
       "      <th>2</th>\n",
       "      <td>20210215</td>\n",
       "    </tr>\n",
       "  </tbody>\n",
       "</table>\n",
       "</div>"
      ],
      "text/plain": [
       "       data\n",
       "0  20200924\n",
       "1  20201022\n",
       "2  20210215"
      ]
     },
     "execution_count": 31,
     "metadata": {},
     "output_type": "execute_result"
    }
   ],
   "source": [
    "df = spark.createDataFrame([(20200924,), (20201022,), (20210215,)], ['data'])\n",
    "df.toPandas()\n"
   ]
  },
  {
   "cell_type": "code",
   "execution_count": 32,
   "id": "d8652433-8971-4ade-a9e5-f8bfa8c0d03e",
   "metadata": {},
   "outputs": [
    {
     "name": "stdout",
     "output_type": "stream",
     "text": [
      "root\n",
      " |-- data: long (nullable = true)\n",
      "\n"
     ]
    }
   ],
   "source": [
    "df.printSchema()"
   ]
  },
  {
   "cell_type": "code",
   "execution_count": 33,
   "id": "b92f0774-0561-4954-a6bf-326a43dc284a",
   "metadata": {},
   "outputs": [
    {
     "name": "stdout",
     "output_type": "stream",
     "text": [
      "root\n",
      " |-- data: date (nullable = true)\n",
      "\n"
     ]
    }
   ],
   "source": [
    "df = df.withColumn(\"data\", f.to_date(df['data'].cast(StringType()), 'yyyyMMdd'))\n",
    "df.printSchema()\n"
   ]
  },
  {
   "cell_type": "code",
   "execution_count": 34,
   "id": "03e0b4e2-d585-4509-9511-b909a9dda923",
   "metadata": {},
   "outputs": [
    {
     "data": {
      "text/html": [
       "<div>\n",
       "<style scoped>\n",
       "    .dataframe tbody tr th:only-of-type {\n",
       "        vertical-align: middle;\n",
       "    }\n",
       "\n",
       "    .dataframe tbody tr th {\n",
       "        vertical-align: top;\n",
       "    }\n",
       "\n",
       "    .dataframe thead th {\n",
       "        text-align: right;\n",
       "    }\n",
       "</style>\n",
       "<table border=\"1\" class=\"dataframe\">\n",
       "  <thead>\n",
       "    <tr style=\"text-align: right;\">\n",
       "      <th></th>\n",
       "      <th>data</th>\n",
       "    </tr>\n",
       "  </thead>\n",
       "  <tbody>\n",
       "    <tr>\n",
       "      <th>0</th>\n",
       "      <td>2020-09-24</td>\n",
       "    </tr>\n",
       "    <tr>\n",
       "      <th>1</th>\n",
       "      <td>2020-10-22</td>\n",
       "    </tr>\n",
       "    <tr>\n",
       "      <th>2</th>\n",
       "      <td>2021-02-15</td>\n",
       "    </tr>\n",
       "  </tbody>\n",
       "</table>\n",
       "</div>"
      ],
      "text/plain": [
       "         data\n",
       "0  2020-09-24\n",
       "1  2020-10-22\n",
       "2  2021-02-15"
      ]
     },
     "execution_count": 34,
     "metadata": {},
     "output_type": "execute_result"
    }
   ],
   "source": [
    "df.toPandas()"
   ]
  },
  {
   "cell_type": "code",
   "execution_count": 35,
   "id": "f5df05c8-df60-4a94-912a-296a4baca47a",
   "metadata": {},
   "outputs": [],
   "source": [
    "estabelecimentos_df = estabelecimentos_df\\\n",
    "            .withColumn(\n",
    "            \"data_situacao_cadastral\",\n",
    "            f.to_date(estabelecimentos_df.data_situacao_cadastral.cast(StringType()), 'yyyyMMdd')\n",
    "            )\n"
   ]
  },
  {
   "cell_type": "code",
   "execution_count": 36,
   "id": "36f23e1f-9f31-47c0-8d67-e704acc30587",
   "metadata": {},
   "outputs": [],
   "source": [
    "estabelecimentos_df = estabelecimentos_df\\\n",
    "            .withColumn(\n",
    "            \"data_de_inicio_atividade\",\n",
    "            f.to_date(estabelecimentos_df.data_de_inicio_atividade.cast(StringType()), 'yyyyMMdd')\n",
    "            )\\\n",
    "            .withColumn(\n",
    "            \"data_da_situacao_especial\",\n",
    "            f.to_date(estabelecimentos_df.data_da_situacao_especial.cast(StringType()), 'yyyyMMdd')\n",
    "            )\n"
   ]
  },
  {
   "cell_type": "code",
   "execution_count": 37,
   "id": "095d95ab-c50a-44f8-9c1a-1e980811b3da",
   "metadata": {},
   "outputs": [
    {
     "data": {
      "text/html": [
       "<div>\n",
       "<style scoped>\n",
       "    .dataframe tbody tr th:only-of-type {\n",
       "        vertical-align: middle;\n",
       "    }\n",
       "\n",
       "    .dataframe tbody tr th {\n",
       "        vertical-align: top;\n",
       "    }\n",
       "\n",
       "    .dataframe thead th {\n",
       "        text-align: right;\n",
       "    }\n",
       "</style>\n",
       "<table border=\"1\" class=\"dataframe\">\n",
       "  <thead>\n",
       "    <tr style=\"text-align: right;\">\n",
       "      <th></th>\n",
       "      <th>data_da_situacao_especial</th>\n",
       "      <th>data_de_inicio_atividade</th>\n",
       "      <th>data_situacao_cadastral</th>\n",
       "    </tr>\n",
       "  </thead>\n",
       "  <tbody>\n",
       "    <tr>\n",
       "      <th>0</th>\n",
       "      <td>None</td>\n",
       "      <td>1994-05-16</td>\n",
       "      <td>1995-03-31</td>\n",
       "    </tr>\n",
       "    <tr>\n",
       "      <th>1</th>\n",
       "      <td>None</td>\n",
       "      <td>1994-05-24</td>\n",
       "      <td>2015-02-09</td>\n",
       "    </tr>\n",
       "    <tr>\n",
       "      <th>2</th>\n",
       "      <td>None</td>\n",
       "      <td>1994-05-31</td>\n",
       "      <td>2018-12-19</td>\n",
       "    </tr>\n",
       "    <tr>\n",
       "      <th>3</th>\n",
       "      <td>None</td>\n",
       "      <td>1994-06-08</td>\n",
       "      <td>2008-12-31</td>\n",
       "    </tr>\n",
       "    <tr>\n",
       "      <th>4</th>\n",
       "      <td>None</td>\n",
       "      <td>1994-06-01</td>\n",
       "      <td>2004-01-23</td>\n",
       "    </tr>\n",
       "    <tr>\n",
       "      <th>5</th>\n",
       "      <td>None</td>\n",
       "      <td>1973-08-21</td>\n",
       "      <td>2008-12-31</td>\n",
       "    </tr>\n",
       "    <tr>\n",
       "      <th>6</th>\n",
       "      <td>None</td>\n",
       "      <td>1994-06-13</td>\n",
       "      <td>2018-10-04</td>\n",
       "    </tr>\n",
       "    <tr>\n",
       "      <th>7</th>\n",
       "      <td>None</td>\n",
       "      <td>1994-06-21</td>\n",
       "      <td>1996-05-06</td>\n",
       "    </tr>\n",
       "    <tr>\n",
       "      <th>8</th>\n",
       "      <td>None</td>\n",
       "      <td>1994-06-16</td>\n",
       "      <td>2012-10-04</td>\n",
       "    </tr>\n",
       "    <tr>\n",
       "      <th>9</th>\n",
       "      <td>None</td>\n",
       "      <td>1994-06-28</td>\n",
       "      <td>2016-10-10</td>\n",
       "    </tr>\n",
       "  </tbody>\n",
       "</table>\n",
       "</div>"
      ],
      "text/plain": [
       "  data_da_situacao_especial data_de_inicio_atividade data_situacao_cadastral\n",
       "0                      None               1994-05-16              1995-03-31\n",
       "1                      None               1994-05-24              2015-02-09\n",
       "2                      None               1994-05-31              2018-12-19\n",
       "3                      None               1994-06-08              2008-12-31\n",
       "4                      None               1994-06-01              2004-01-23\n",
       "5                      None               1973-08-21              2008-12-31\n",
       "6                      None               1994-06-13              2018-10-04\n",
       "7                      None               1994-06-21              1996-05-06\n",
       "8                      None               1994-06-16              2012-10-04\n",
       "9                      None               1994-06-28              2016-10-10"
      ]
     },
     "execution_count": 37,
     "metadata": {},
     "output_type": "execute_result"
    }
   ],
   "source": [
    "estabelecimentos_df[['data_da_situacao_especial', 'data_de_inicio_atividade', 'data_situacao_cadastral']].limit(10).toPandas()"
   ]
  },
  {
   "cell_type": "code",
   "execution_count": 38,
   "id": "75f74821-2d09-4817-bcfd-94a808d3954b",
   "metadata": {},
   "outputs": [
    {
     "name": "stdout",
     "output_type": "stream",
     "text": [
      "root\n",
      " |-- cnpj_basico: integer (nullable = true)\n",
      " |-- identificador_de_socio: integer (nullable = true)\n",
      " |-- nome_do_socio_ou_razao_social: string (nullable = true)\n",
      " |-- cnpj_ou_cpf_do_socio: string (nullable = true)\n",
      " |-- qualificacao_do_socio: integer (nullable = true)\n",
      " |-- data_de_entrada_sociedade: integer (nullable = true)\n",
      " |-- pais: integer (nullable = true)\n",
      " |-- representante_legal: string (nullable = true)\n",
      " |-- nome_do_representante: string (nullable = true)\n",
      " |-- qualificacao_do_representante_legal: integer (nullable = true)\n",
      " |-- faixa_etaria: integer (nullable = true)\n",
      "\n"
     ]
    }
   ],
   "source": [
    "socios_df.printSchema()"
   ]
  },
  {
   "cell_type": "code",
   "execution_count": 39,
   "id": "a047d49f-d58e-4401-a285-725c957520cd",
   "metadata": {},
   "outputs": [
    {
     "data": {
      "text/html": [
       "<div>\n",
       "<style scoped>\n",
       "    .dataframe tbody tr th:only-of-type {\n",
       "        vertical-align: middle;\n",
       "    }\n",
       "\n",
       "    .dataframe tbody tr th {\n",
       "        vertical-align: top;\n",
       "    }\n",
       "\n",
       "    .dataframe thead th {\n",
       "        text-align: right;\n",
       "    }\n",
       "</style>\n",
       "<table border=\"1\" class=\"dataframe\">\n",
       "  <thead>\n",
       "    <tr style=\"text-align: right;\">\n",
       "      <th></th>\n",
       "      <th>cnpj_basico</th>\n",
       "      <th>identificador_de_socio</th>\n",
       "      <th>nome_do_socio_ou_razao_social</th>\n",
       "      <th>cnpj_ou_cpf_do_socio</th>\n",
       "      <th>qualificacao_do_socio</th>\n",
       "      <th>data_de_entrada_sociedade</th>\n",
       "      <th>pais</th>\n",
       "      <th>representante_legal</th>\n",
       "      <th>nome_do_representante</th>\n",
       "      <th>qualificacao_do_representante_legal</th>\n",
       "      <th>faixa_etaria</th>\n",
       "    </tr>\n",
       "  </thead>\n",
       "  <tbody>\n",
       "    <tr>\n",
       "      <th>0</th>\n",
       "      <td>11748</td>\n",
       "      <td>2</td>\n",
       "      <td>MARIO KATUMI HOSI</td>\n",
       "      <td>***504158**</td>\n",
       "      <td>49</td>\n",
       "      <td>19940530</td>\n",
       "      <td>NaN</td>\n",
       "      <td>***000000**</td>\n",
       "      <td>None</td>\n",
       "      <td>0</td>\n",
       "      <td>7</td>\n",
       "    </tr>\n",
       "    <tr>\n",
       "      <th>1</th>\n",
       "      <td>11748</td>\n",
       "      <td>2</td>\n",
       "      <td>ROBERTO YUKIO HOSI</td>\n",
       "      <td>***241578**</td>\n",
       "      <td>22</td>\n",
       "      <td>19940530</td>\n",
       "      <td>NaN</td>\n",
       "      <td>***000000**</td>\n",
       "      <td>None</td>\n",
       "      <td>0</td>\n",
       "      <td>7</td>\n",
       "    </tr>\n",
       "    <tr>\n",
       "      <th>2</th>\n",
       "      <td>13289</td>\n",
       "      <td>2</td>\n",
       "      <td>ANDREIA CRISTINA DELSIN</td>\n",
       "      <td>***787278**</td>\n",
       "      <td>65</td>\n",
       "      <td>20180615</td>\n",
       "      <td>NaN</td>\n",
       "      <td>***000000**</td>\n",
       "      <td>None</td>\n",
       "      <td>0</td>\n",
       "      <td>3</td>\n",
       "    </tr>\n",
       "    <tr>\n",
       "      <th>3</th>\n",
       "      <td>17389</td>\n",
       "      <td>2</td>\n",
       "      <td>MARCIA DO CANTO ARRUDA DAIER</td>\n",
       "      <td>***920408**</td>\n",
       "      <td>49</td>\n",
       "      <td>19940613</td>\n",
       "      <td>NaN</td>\n",
       "      <td>***000000**</td>\n",
       "      <td>None</td>\n",
       "      <td>0</td>\n",
       "      <td>7</td>\n",
       "    </tr>\n",
       "    <tr>\n",
       "      <th>4</th>\n",
       "      <td>19204</td>\n",
       "      <td>2</td>\n",
       "      <td>ALMIR CARLOS CAPELLINI</td>\n",
       "      <td>***299028**</td>\n",
       "      <td>49</td>\n",
       "      <td>19980908</td>\n",
       "      <td>NaN</td>\n",
       "      <td>***000000**</td>\n",
       "      <td>None</td>\n",
       "      <td>0</td>\n",
       "      <td>7</td>\n",
       "    </tr>\n",
       "  </tbody>\n",
       "</table>\n",
       "</div>"
      ],
      "text/plain": [
       "   cnpj_basico  identificador_de_socio nome_do_socio_ou_razao_social  \\\n",
       "0        11748                       2             MARIO KATUMI HOSI   \n",
       "1        11748                       2            ROBERTO YUKIO HOSI   \n",
       "2        13289                       2       ANDREIA CRISTINA DELSIN   \n",
       "3        17389                       2  MARCIA DO CANTO ARRUDA DAIER   \n",
       "4        19204                       2        ALMIR CARLOS CAPELLINI   \n",
       "\n",
       "  cnpj_ou_cpf_do_socio  qualificacao_do_socio  data_de_entrada_sociedade  \\\n",
       "0          ***504158**                     49                   19940530   \n",
       "1          ***241578**                     22                   19940530   \n",
       "2          ***787278**                     65                   20180615   \n",
       "3          ***920408**                     49                   19940613   \n",
       "4          ***299028**                     49                   19980908   \n",
       "\n",
       "   pais representante_legal nome_do_representante  \\\n",
       "0   NaN         ***000000**                  None   \n",
       "1   NaN         ***000000**                  None   \n",
       "2   NaN         ***000000**                  None   \n",
       "3   NaN         ***000000**                  None   \n",
       "4   NaN         ***000000**                  None   \n",
       "\n",
       "   qualificacao_do_representante_legal  faixa_etaria  \n",
       "0                                    0             7  \n",
       "1                                    0             7  \n",
       "2                                    0             3  \n",
       "3                                    0             7  \n",
       "4                                    0             7  "
      ]
     },
     "execution_count": 39,
     "metadata": {},
     "output_type": "execute_result"
    }
   ],
   "source": [
    "socios_df.limit(5).toPandas()"
   ]
  },
  {
   "cell_type": "code",
   "execution_count": 40,
   "id": "7761f59d-bf7e-41b6-9882-5199642a1f87",
   "metadata": {},
   "outputs": [],
   "source": [
    "socios_df = socios_df.withColumn('data_de_entrada_sociedade', f.to_date(socios_df.data_de_entrada_sociedade.cast(StringType()), 'yyyyMMdd'))"
   ]
  },
  {
   "cell_type": "markdown",
   "id": "48bba511-0731-44ed-989b-a7f734c49625",
   "metadata": {},
   "source": [
    "# Seleções e consultas"
   ]
  },
  {
   "cell_type": "markdown",
   "id": "76d2e2a6-f211-45f8-8f3b-91aba3810fe9",
   "metadata": {},
   "source": [
    "### Selecionando informações"
   ]
  },
  {
   "cell_type": "code",
   "execution_count": 41,
   "id": "e620cbc7-267a-411f-b258-996e900f82e7",
   "metadata": {},
   "outputs": [
    {
     "name": "stdout",
     "output_type": "stream",
     "text": [
      "+-----------+-----------------------------+-----------------+---------------------------+-------------------------+----------------+---------------------------+\n",
      "|cnpj_basico|razao_social_nome_empresarial|natureza_juridica|qualificacao_do_responsavel|capital_social_da_empresa|porte_da_empresa|ente_federativo_responsavel|\n",
      "+-----------+-----------------------------+-----------------+---------------------------+-------------------------+----------------+---------------------------+\n",
      "|       4519|         DANIELA DA SILVA ...|             2135|                         50|                      0.0|               5|                       NULL|\n",
      "|       8638|         JOAO DOS SANTOS F...|             2135|                         50|                      0.0|               5|                       NULL|\n",
      "|      11748|         PANIFICADORA E CO...|             2062|                         49|                      0.0|               1|                       NULL|\n",
      "|      12027|          L G SORVETERIA LTDA|             2062|                         49|                      0.0|               5|                       NULL|\n",
      "|      13289|         ANDREIA CRISTINA ...|             2305|                         65|                 100000.0|               1|                       NULL|\n",
      "+-----------+-----------------------------+-----------------+---------------------------+-------------------------+----------------+---------------------------+\n",
      "only showing top 5 rows\n",
      "\n"
     ]
    }
   ],
   "source": [
    "empresas_df \\\n",
    "    .select('*') \\\n",
    "    .show(5)"
   ]
  },
  {
   "cell_type": "code",
   "execution_count": 42,
   "id": "d77f9cb5-3641-424b-8a40-b7a904fcb5cc",
   "metadata": {},
   "outputs": [
    {
     "name": "stdout",
     "output_type": "stream",
     "text": [
      "+-----------+---------------------------------------------------+-----------------+---------------------------+-------------------------+----------------+---------------------------+\n",
      "|cnpj_basico|razao_social_nome_empresarial                      |natureza_juridica|qualificacao_do_responsavel|capital_social_da_empresa|porte_da_empresa|ente_federativo_responsavel|\n",
      "+-----------+---------------------------------------------------+-----------------+---------------------------+-------------------------+----------------+---------------------------+\n",
      "|4519       |DANIELA DA SILVA CRUZ                              |2135             |50                         |0.0                      |5               |NULL                       |\n",
      "|8638       |JOAO DOS SANTOS FAGUNDES                           |2135             |50                         |0.0                      |5               |NULL                       |\n",
      "|11748      |PANIFICADORA E CONFEITARIA CONFIANCA RIO PRETO LTDA|2062             |49                         |0.0                      |1               |NULL                       |\n",
      "|12027      |L G SORVETERIA LTDA                                |2062             |49                         |0.0                      |5               |NULL                       |\n",
      "|13289      |ANDREIA CRISTINA DELSIN EIRELI                     |2305             |65                         |100000.0                 |1               |NULL                       |\n",
      "+-----------+---------------------------------------------------+-----------------+---------------------------+-------------------------+----------------+---------------------------+\n",
      "only showing top 5 rows\n",
      "\n"
     ]
    }
   ],
   "source": [
    "empresas_df \\\n",
    "    .select('*') \\\n",
    "    .show(5, False)"
   ]
  },
  {
   "cell_type": "code",
   "execution_count": 43,
   "id": "9bae4acd-be74-4480-beb8-4b35b4b1374e",
   "metadata": {},
   "outputs": [
    {
     "name": "stdout",
     "output_type": "stream",
     "text": [
      "+-----------------+----------------+-------------------------+\n",
      "|natureza_juridica|porte_da_empresa|capital_social_da_empresa|\n",
      "+-----------------+----------------+-------------------------+\n",
      "|             2135|               5|                      0.0|\n",
      "|             2135|               5|                      0.0|\n",
      "|             2062|               1|                      0.0|\n",
      "|             2062|               5|                      0.0|\n",
      "|             2305|               1|                 100000.0|\n",
      "+-----------------+----------------+-------------------------+\n",
      "only showing top 5 rows\n",
      "\n"
     ]
    }
   ],
   "source": [
    "empresas_df \\\n",
    "    .select('natureza_juridica', 'porte_da_empresa', 'capital_social_da_empresa') \\\n",
    "    .show(5)"
   ]
  },
  {
   "cell_type": "code",
   "execution_count": 44,
   "id": "6f3ede3f-721f-4fe1-9f5c-6cc5995e37ce",
   "metadata": {},
   "outputs": [
    {
     "name": "stdout",
     "output_type": "stream",
     "text": [
      "+-----------------------------+------------+--------------+--------------+--------------+\n",
      "|nome_do_socio_ou_razao_social|faixa_etaria|ano_de_entrada|mes_de_entrada|dia_de_entrada|\n",
      "+-----------------------------+------------+--------------+--------------+--------------+\n",
      "|MARIO KATUMI HOSI            |7           |1994          |5             |30            |\n",
      "|ROBERTO YUKIO HOSI           |7           |1994          |5             |30            |\n",
      "|ANDREIA CRISTINA DELSIN      |3           |2018          |6             |15            |\n",
      "|MARCIA DO CANTO ARRUDA DAIER |7           |1994          |6             |13            |\n",
      "|ALMIR CARLOS CAPELLINI       |7           |1998          |9             |8             |\n",
      "+-----------------------------+------------+--------------+--------------+--------------+\n",
      "only showing top 5 rows\n",
      "\n"
     ]
    }
   ],
   "source": [
    "socios_df \\\n",
    "    .select('nome_do_socio_ou_razao_social', 'faixa_etaria',  f.year('data_de_entrada_sociedade').alias('ano_de_entrada'), f.month('data_de_entrada_sociedade').alias('mes_de_entrada'), f.day('data_de_entrada_sociedade').alias('dia_de_entrada')) \\\n",
    "    .show(5, False)"
   ]
  },
  {
   "cell_type": "code",
   "execution_count": 45,
   "id": "19f886f4-420f-4f32-8ad8-bd525db1017d",
   "metadata": {},
   "outputs": [
    {
     "name": "stdout",
     "output_type": "stream",
     "text": [
      "+--------------------+---------+--------------------+--------------------+\n",
      "|       nome_fantasia|municipio|ano_inicio_atividade|mes_inicio_atividade|\n",
      "+--------------------+---------+--------------------+--------------------+\n",
      "|            GIRAFFAS|     6219|                1994|                   5|\n",
      "|AGROPECUARIA FAGU...|     7255|                1994|                   5|\n",
      "|                NULL|     7097|                1994|                   5|\n",
      "|                NULL|     7107|                1994|                   6|\n",
      "|JS MATERIAIS DE C...|     6915|                1994|                   6|\n",
      "+--------------------+---------+--------------------+--------------------+\n",
      "only showing top 5 rows\n",
      "\n"
     ]
    }
   ],
   "source": [
    "estabelecimentos_df \\\n",
    "    .select('nome_fantasia', 'municipio', f.year('data_de_inicio_atividade').alias('ano_inicio_atividade'), f.month('data_de_inicio_atividade').alias('mes_inicio_atividade')) \\\n",
    "    .show(5)\n"
   ]
  },
  {
   "cell_type": "code",
   "execution_count": 46,
   "id": "b4cd2893-7e8d-4169-a45b-8d9698497464",
   "metadata": {},
   "outputs": [
    {
     "name": "stdout",
     "output_type": "stream",
     "text": [
      "+------------------------------+-----+\n",
      "|nome                          |idade|\n",
      "+------------------------------+-----+\n",
      "|GISELLE PAULA GUIMARAES CASTRO|15   |\n",
      "|ELAINE GARCIA DE OLIVEIRA     |22   |\n",
      "|JOAO CARLOS ABNER DE LOURDES  |43   |\n",
      "|MARTA ZELI FERREIRA           |24   |\n",
      "|LAUDENETE WIGGERS ROEDER      |51   |\n",
      "+------------------------------+-----+\n",
      "\n"
     ]
    }
   ],
   "source": [
    "data = [\n",
    "    ('GISELLE PAULA GUIMARAES CASTRO', 15),\n",
    "    ('ELAINE GARCIA DE OLIVEIRA', 22),\n",
    "    ('JOAO CARLOS ABNER DE LOURDES', 43),\n",
    "    ('MARTA ZELI FERREIRA', 24),\n",
    "    ('LAUDENETE WIGGERS ROEDER', 51)\n",
    "]\n",
    "colNames = ['nome', 'idade']\n",
    "df = spark.createDataFrame(data, colNames)\n",
    "df.show(truncate=False)"
   ]
  },
  {
   "cell_type": "code",
   "execution_count": 47,
   "id": "13fb679e-2340-4290-ae2d-a2fc520938e2",
   "metadata": {},
   "outputs": [
    {
     "name": "stdout",
     "output_type": "stream",
     "text": [
      "+-----------------+-----+\n",
      "|            ident|idade|\n",
      "+-----------------+-----+\n",
      "|  CASTRO, GISELLE|   15|\n",
      "| OLIVEIRA, ELAINE|   22|\n",
      "|    LOURDES, JOAO|   43|\n",
      "|  FERREIRA, MARTA|   24|\n",
      "|ROEDER, LAUDENETE|   51|\n",
      "+-----------------+-----+\n",
      "\n"
     ]
    }
   ],
   "source": [
    "df \\\n",
    "    .select(\n",
    "        f.concat_ws(\n",
    "            ', ', \n",
    "            f.substring_index('nome', ' ', -1), \n",
    "            f.substring_index('nome', ' ', 1)\n",
    "        ).alias('ident'), \n",
    "        'idade') \\\n",
    "    .show()"
   ]
  },
  {
   "cell_type": "code",
   "execution_count": 48,
   "id": "b74fc2b9-5a07-4a5b-a7a4-9c5f716ca67b",
   "metadata": {},
   "outputs": [
    {
     "name": "stdout",
     "output_type": "stream",
     "text": [
      "+-----------------+-----+\n",
      "|ident            |idade|\n",
      "+-----------------+-----+\n",
      "|CASTRO, GISELLE  |15   |\n",
      "|OLIVEIRA, ELAINE |22   |\n",
      "|LOURDES, JOAO    |43   |\n",
      "|FERREIRA, MARTA  |24   |\n",
      "|ROEDER, LAUDENETE|51   |\n",
      "+-----------------+-----+\n",
      "\n"
     ]
    }
   ],
   "source": [
    "df \\\n",
    "    .select(\n",
    "        f.concat_ws(\n",
    "            ', ', \n",
    "            f.substring_index('nome', ' ', -1), \n",
    "            f.substring_index('nome', ' ', 1)\n",
    "        ).alias('ident'), \n",
    "        'idade') \\\n",
    "    .show(truncate=False)"
   ]
  },
  {
   "cell_type": "markdown",
   "id": "c7519139-e78d-46bf-a49f-ea1a99e61113",
   "metadata": {},
   "source": [
    "# Identificando valores Nulos"
   ]
  },
  {
   "cell_type": "code",
   "execution_count": 49,
   "id": "2f7715f4-095a-40f6-8bcd-7e264a270edf",
   "metadata": {},
   "outputs": [
    {
     "data": {
      "text/html": [
       "<div>\n",
       "<style scoped>\n",
       "    .dataframe tbody tr th:only-of-type {\n",
       "        vertical-align: middle;\n",
       "    }\n",
       "\n",
       "    .dataframe tbody tr th {\n",
       "        vertical-align: top;\n",
       "    }\n",
       "\n",
       "    .dataframe thead th {\n",
       "        text-align: right;\n",
       "    }\n",
       "</style>\n",
       "<table border=\"1\" class=\"dataframe\">\n",
       "  <thead>\n",
       "    <tr style=\"text-align: right;\">\n",
       "      <th></th>\n",
       "      <th>data</th>\n",
       "    </tr>\n",
       "  </thead>\n",
       "  <tbody>\n",
       "    <tr>\n",
       "      <th>0</th>\n",
       "      <td>1.0</td>\n",
       "    </tr>\n",
       "    <tr>\n",
       "      <th>1</th>\n",
       "      <td>2.0</td>\n",
       "    </tr>\n",
       "    <tr>\n",
       "      <th>2</th>\n",
       "      <td>3.0</td>\n",
       "    </tr>\n",
       "    <tr>\n",
       "      <th>3</th>\n",
       "      <td>NaN</td>\n",
       "    </tr>\n",
       "  </tbody>\n",
       "</table>\n",
       "</div>"
      ],
      "text/plain": [
       "   data\n",
       "0   1.0\n",
       "1   2.0\n",
       "2   3.0\n",
       "3   NaN"
      ]
     },
     "execution_count": 49,
     "metadata": {},
     "output_type": "execute_result"
    }
   ],
   "source": [
    "df = spark.createDataFrame([(1, ), (2, ), (3, ), (None, )], ['data'])\n",
    "df.toPandas()"
   ]
  },
  {
   "cell_type": "code",
   "execution_count": 50,
   "id": "02e5a253-33b8-45bb-a9df-92aea7ca479e",
   "metadata": {},
   "outputs": [
    {
     "name": "stdout",
     "output_type": "stream",
     "text": [
      "+----+\n",
      "|data|\n",
      "+----+\n",
      "|   1|\n",
      "|   2|\n",
      "|   3|\n",
      "|NULL|\n",
      "+----+\n",
      "\n"
     ]
    }
   ],
   "source": [
    "df.show()"
   ]
  },
  {
   "cell_type": "code",
   "execution_count": 51,
   "id": "95db3b9b-d850-4579-903a-1402348527f0",
   "metadata": {},
   "outputs": [
    {
     "data": {
      "text/html": [
       "<div>\n",
       "<style scoped>\n",
       "    .dataframe tbody tr th:only-of-type {\n",
       "        vertical-align: middle;\n",
       "    }\n",
       "\n",
       "    .dataframe tbody tr th {\n",
       "        vertical-align: top;\n",
       "    }\n",
       "\n",
       "    .dataframe thead th {\n",
       "        text-align: right;\n",
       "    }\n",
       "</style>\n",
       "<table border=\"1\" class=\"dataframe\">\n",
       "  <thead>\n",
       "    <tr style=\"text-align: right;\">\n",
       "      <th></th>\n",
       "      <th>data</th>\n",
       "    </tr>\n",
       "  </thead>\n",
       "  <tbody>\n",
       "    <tr>\n",
       "      <th>0</th>\n",
       "      <td>1.0</td>\n",
       "    </tr>\n",
       "    <tr>\n",
       "      <th>1</th>\n",
       "      <td>2.0</td>\n",
       "    </tr>\n",
       "    <tr>\n",
       "      <th>2</th>\n",
       "      <td>3.0</td>\n",
       "    </tr>\n",
       "    <tr>\n",
       "      <th>3</th>\n",
       "      <td>NaN</td>\n",
       "    </tr>\n",
       "  </tbody>\n",
       "</table>\n",
       "</div>"
      ],
      "text/plain": [
       "   data\n",
       "0   1.0\n",
       "1   2.0\n",
       "2   3.0\n",
       "3   NaN"
      ]
     },
     "execution_count": 51,
     "metadata": {},
     "output_type": "execute_result"
    }
   ],
   "source": [
    "df = spark.createDataFrame([(1.,), (2.,), (3.,), (float('nan'), )], ['data'])\n",
    "df.toPandas()"
   ]
  },
  {
   "cell_type": "code",
   "execution_count": 52,
   "id": "2c21ce31-0886-4f97-8ab8-92ba84d6d845",
   "metadata": {},
   "outputs": [
    {
     "name": "stdout",
     "output_type": "stream",
     "text": [
      "+----+\n",
      "|data|\n",
      "+----+\n",
      "| 1.0|\n",
      "| 2.0|\n",
      "| 3.0|\n",
      "| NaN|\n",
      "+----+\n",
      "\n"
     ]
    }
   ],
   "source": [
    "df.show()"
   ]
  },
  {
   "cell_type": "code",
   "execution_count": 53,
   "id": "38d1c04b-57cb-4f4d-a42b-1a1db6fd197d",
   "metadata": {},
   "outputs": [
    {
     "name": "stdout",
     "output_type": "stream",
     "text": [
      "+----+\n",
      "|data|\n",
      "+----+\n",
      "| 1.0|\n",
      "| 2.0|\n",
      "| 3.0|\n",
      "| NaN|\n",
      "+----+\n",
      "\n"
     ]
    }
   ],
   "source": [
    "df = spark.createDataFrame([(1.,), (2.,), (3.,), (float('nan'), )], ['data'])\n",
    "df.show()"
   ]
  },
  {
   "cell_type": "code",
   "execution_count": 54,
   "id": "905ba5f2-e71f-4590-8545-3017053d8df6",
   "metadata": {},
   "outputs": [
    {
     "name": "stdout",
     "output_type": "stream",
     "text": [
      "+----+\n",
      "|data|\n",
      "+----+\n",
      "| 1.0|\n",
      "| 2.0|\n",
      "| 3.0|\n",
      "| NaN|\n",
      "+----+\n",
      "\n"
     ]
    }
   ],
   "source": [
    "df.show()"
   ]
  },
  {
   "cell_type": "code",
   "execution_count": 55,
   "id": "69d639cf-6386-47ca-9fe7-cfaded744195",
   "metadata": {},
   "outputs": [
    {
     "data": {
      "text/html": [
       "<div>\n",
       "<style scoped>\n",
       "    .dataframe tbody tr th:only-of-type {\n",
       "        vertical-align: middle;\n",
       "    }\n",
       "\n",
       "    .dataframe tbody tr th {\n",
       "        vertical-align: top;\n",
       "    }\n",
       "\n",
       "    .dataframe thead th {\n",
       "        text-align: right;\n",
       "    }\n",
       "</style>\n",
       "<table border=\"1\" class=\"dataframe\">\n",
       "  <thead>\n",
       "    <tr style=\"text-align: right;\">\n",
       "      <th></th>\n",
       "      <th>data</th>\n",
       "    </tr>\n",
       "  </thead>\n",
       "  <tbody>\n",
       "    <tr>\n",
       "      <th>0</th>\n",
       "      <td>1</td>\n",
       "    </tr>\n",
       "    <tr>\n",
       "      <th>1</th>\n",
       "      <td>2</td>\n",
       "    </tr>\n",
       "    <tr>\n",
       "      <th>2</th>\n",
       "      <td>3</td>\n",
       "    </tr>\n",
       "    <tr>\n",
       "      <th>3</th>\n",
       "      <td>None</td>\n",
       "    </tr>\n",
       "  </tbody>\n",
       "</table>\n",
       "</div>"
      ],
      "text/plain": [
       "   data\n",
       "0     1\n",
       "1     2\n",
       "2     3\n",
       "3  None"
      ]
     },
     "execution_count": 55,
     "metadata": {},
     "output_type": "execute_result"
    }
   ],
   "source": [
    "df = spark.createDataFrame([('1',), ('2',), ('3',), (None,)], ['data'])\n",
    "df.toPandas()"
   ]
  },
  {
   "cell_type": "code",
   "execution_count": 56,
   "id": "42ded328-2a4f-49fb-a36b-b923a2061d66",
   "metadata": {},
   "outputs": [
    {
     "name": "stdout",
     "output_type": "stream",
     "text": [
      "+----+\n",
      "|data|\n",
      "+----+\n",
      "|   1|\n",
      "|   2|\n",
      "|   3|\n",
      "|NULL|\n",
      "+----+\n",
      "\n"
     ]
    }
   ],
   "source": [
    "df.show()"
   ]
  },
  {
   "cell_type": "code",
   "execution_count": 57,
   "id": "87674114-4cb5-49d9-bd89-c8b7958d2602",
   "metadata": {},
   "outputs": [
    {
     "data": {
      "text/html": [
       "<div>\n",
       "<style scoped>\n",
       "    .dataframe tbody tr th:only-of-type {\n",
       "        vertical-align: middle;\n",
       "    }\n",
       "\n",
       "    .dataframe tbody tr th {\n",
       "        vertical-align: top;\n",
       "    }\n",
       "\n",
       "    .dataframe thead th {\n",
       "        text-align: right;\n",
       "    }\n",
       "</style>\n",
       "<table border=\"1\" class=\"dataframe\">\n",
       "  <thead>\n",
       "    <tr style=\"text-align: right;\">\n",
       "      <th></th>\n",
       "      <th>cnpj_basico</th>\n",
       "      <th>identificador_de_socio</th>\n",
       "      <th>nome_do_socio_ou_razao_social</th>\n",
       "      <th>cnpj_ou_cpf_do_socio</th>\n",
       "      <th>qualificacao_do_socio</th>\n",
       "      <th>data_de_entrada_sociedade</th>\n",
       "      <th>pais</th>\n",
       "      <th>representante_legal</th>\n",
       "      <th>nome_do_representante</th>\n",
       "      <th>qualificacao_do_representante_legal</th>\n",
       "      <th>faixa_etaria</th>\n",
       "    </tr>\n",
       "  </thead>\n",
       "  <tbody>\n",
       "    <tr>\n",
       "      <th>0</th>\n",
       "      <td>11748</td>\n",
       "      <td>2</td>\n",
       "      <td>MARIO KATUMI HOSI</td>\n",
       "      <td>***504158**</td>\n",
       "      <td>49</td>\n",
       "      <td>1994-05-30</td>\n",
       "      <td>NaN</td>\n",
       "      <td>***000000**</td>\n",
       "      <td>None</td>\n",
       "      <td>0</td>\n",
       "      <td>7</td>\n",
       "    </tr>\n",
       "    <tr>\n",
       "      <th>1</th>\n",
       "      <td>11748</td>\n",
       "      <td>2</td>\n",
       "      <td>ROBERTO YUKIO HOSI</td>\n",
       "      <td>***241578**</td>\n",
       "      <td>22</td>\n",
       "      <td>1994-05-30</td>\n",
       "      <td>NaN</td>\n",
       "      <td>***000000**</td>\n",
       "      <td>None</td>\n",
       "      <td>0</td>\n",
       "      <td>7</td>\n",
       "    </tr>\n",
       "    <tr>\n",
       "      <th>2</th>\n",
       "      <td>13289</td>\n",
       "      <td>2</td>\n",
       "      <td>ANDREIA CRISTINA DELSIN</td>\n",
       "      <td>***787278**</td>\n",
       "      <td>65</td>\n",
       "      <td>2018-06-15</td>\n",
       "      <td>NaN</td>\n",
       "      <td>***000000**</td>\n",
       "      <td>None</td>\n",
       "      <td>0</td>\n",
       "      <td>3</td>\n",
       "    </tr>\n",
       "    <tr>\n",
       "      <th>3</th>\n",
       "      <td>17389</td>\n",
       "      <td>2</td>\n",
       "      <td>MARCIA DO CANTO ARRUDA DAIER</td>\n",
       "      <td>***920408**</td>\n",
       "      <td>49</td>\n",
       "      <td>1994-06-13</td>\n",
       "      <td>NaN</td>\n",
       "      <td>***000000**</td>\n",
       "      <td>None</td>\n",
       "      <td>0</td>\n",
       "      <td>7</td>\n",
       "    </tr>\n",
       "    <tr>\n",
       "      <th>4</th>\n",
       "      <td>19204</td>\n",
       "      <td>2</td>\n",
       "      <td>ALMIR CARLOS CAPELLINI</td>\n",
       "      <td>***299028**</td>\n",
       "      <td>49</td>\n",
       "      <td>1998-09-08</td>\n",
       "      <td>NaN</td>\n",
       "      <td>***000000**</td>\n",
       "      <td>None</td>\n",
       "      <td>0</td>\n",
       "      <td>7</td>\n",
       "    </tr>\n",
       "  </tbody>\n",
       "</table>\n",
       "</div>"
      ],
      "text/plain": [
       "   cnpj_basico  identificador_de_socio nome_do_socio_ou_razao_social  \\\n",
       "0        11748                       2             MARIO KATUMI HOSI   \n",
       "1        11748                       2            ROBERTO YUKIO HOSI   \n",
       "2        13289                       2       ANDREIA CRISTINA DELSIN   \n",
       "3        17389                       2  MARCIA DO CANTO ARRUDA DAIER   \n",
       "4        19204                       2        ALMIR CARLOS CAPELLINI   \n",
       "\n",
       "  cnpj_ou_cpf_do_socio  qualificacao_do_socio data_de_entrada_sociedade  pais  \\\n",
       "0          ***504158**                     49                1994-05-30   NaN   \n",
       "1          ***241578**                     22                1994-05-30   NaN   \n",
       "2          ***787278**                     65                2018-06-15   NaN   \n",
       "3          ***920408**                     49                1994-06-13   NaN   \n",
       "4          ***299028**                     49                1998-09-08   NaN   \n",
       "\n",
       "  representante_legal nome_do_representante  \\\n",
       "0         ***000000**                  None   \n",
       "1         ***000000**                  None   \n",
       "2         ***000000**                  None   \n",
       "3         ***000000**                  None   \n",
       "4         ***000000**                  None   \n",
       "\n",
       "   qualificacao_do_representante_legal  faixa_etaria  \n",
       "0                                    0             7  \n",
       "1                                    0             7  \n",
       "2                                    0             3  \n",
       "3                                    0             7  \n",
       "4                                    0             7  "
      ]
     },
     "execution_count": 57,
     "metadata": {},
     "output_type": "execute_result"
    }
   ],
   "source": [
    "socios_df.limit(5).toPandas()"
   ]
  },
  {
   "cell_type": "code",
   "execution_count": 58,
   "id": "9a14e62d-1214-463e-ac1c-7772cc1904a9",
   "metadata": {
    "editable": true,
    "slideshow": {
     "slide_type": ""
    },
    "tags": []
   },
   "outputs": [
    {
     "name": "stdout",
     "output_type": "stream",
     "text": [
      "+----+---------------------+\n",
      "|pais|nome_do_representante|\n",
      "+----+---------------------+\n",
      "|NULL|                 NULL|\n",
      "|NULL|                 NULL|\n",
      "|NULL|                 NULL|\n",
      "|NULL|                 NULL|\n",
      "|NULL|                 NULL|\n",
      "+----+---------------------+\n",
      "\n"
     ]
    }
   ],
   "source": [
    "socios_df[['pais', 'nome_do_representante']].limit(5).show()"
   ]
  },
  {
   "cell_type": "code",
   "execution_count": 59,
   "id": "881395a7-466d-4d71-a836-dc7422559051",
   "metadata": {},
   "outputs": [
    {
     "name": "stdout",
     "output_type": "stream",
     "text": [
      "+-----------+----------------------+-----------------------------+--------------------+---------------------+-------------------------+-------+-------------------+---------------------+-----------------------------------+------------+\n",
      "|cnpj_basico|identificador_de_socio|nome_do_socio_ou_razao_social|cnpj_ou_cpf_do_socio|qualificacao_do_socio|data_de_entrada_sociedade|   pais|representante_legal|nome_do_representante|qualificacao_do_representante_legal|faixa_etaria|\n",
      "+-----------+----------------------+-----------------------------+--------------------+---------------------+-------------------------+-------+-------------------+---------------------+-----------------------------------+------------+\n",
      "|          0|                     0|                          208|                1234|                    0|                        1|2038255|                  0|              1995432|                                  0|           0|\n",
      "+-----------+----------------------+-----------------------------+--------------------+---------------------+-------------------------+-------+-------------------+---------------------+-----------------------------------+------------+\n",
      "\n"
     ]
    }
   ],
   "source": [
    "socios_df.select( [f.count(f.when(f.isnull(c), 1)).alias(c) for c in socios_df.columns] ).show()"
   ]
  },
  {
   "cell_type": "code",
   "execution_count": 60,
   "id": "3f167145-7482-4005-8caf-943e3839d389",
   "metadata": {},
   "outputs": [
    {
     "name": "stdout",
     "output_type": "stream",
     "text": [
      "+-----------+----------------------+-----------------------------+--------------------+---------------------+-------------------------+----+-------------------+---------------------+-----------------------------------+------------+\n",
      "|cnpj_basico|identificador_de_socio|nome_do_socio_ou_razao_social|cnpj_ou_cpf_do_socio|qualificacao_do_socio|data_de_entrada_sociedade|pais|representante_legal|nome_do_representante|qualificacao_do_representante_legal|faixa_etaria|\n",
      "+-----------+----------------------+-----------------------------+--------------------+---------------------+-------------------------+----+-------------------+---------------------+-----------------------------------+------------+\n",
      "|      11748|                     2|            MARIO KATUMI HOSI|         ***504158**|                   49|               1994-05-30|   0|        ***000000**|                 NULL|                                  0|           7|\n",
      "|      11748|                     2|           ROBERTO YUKIO HOSI|         ***241578**|                   22|               1994-05-30|   0|        ***000000**|                 NULL|                                  0|           7|\n",
      "|      13289|                     2|         ANDREIA CRISTINA ...|         ***787278**|                   65|               2018-06-15|   0|        ***000000**|                 NULL|                                  0|           3|\n",
      "|      17389|                     2|         MARCIA DO CANTO A...|         ***920408**|                   49|               1994-06-13|   0|        ***000000**|                 NULL|                                  0|           7|\n",
      "|      19204|                     2|         ALMIR CARLOS CAPE...|         ***299028**|                   49|               1998-09-08|   0|        ***000000**|                 NULL|                                  0|           7|\n",
      "+-----------+----------------------+-----------------------------+--------------------+---------------------+-------------------------+----+-------------------+---------------------+-----------------------------------+------------+\n",
      "\n"
     ]
    }
   ],
   "source": [
    "socios_df.fillna(0).limit(5).show()"
   ]
  },
  {
   "cell_type": "code",
   "execution_count": 61,
   "id": "939ce13a-3fbb-4b4f-89f6-993714fb3051",
   "metadata": {},
   "outputs": [
    {
     "name": "stdout",
     "output_type": "stream",
     "text": [
      "+-----------+----------------------+-----------------------------+--------------------+---------------------+-------------------------+----+-------------------+---------------------+-----------------------------------+------------+\n",
      "|cnpj_basico|identificador_de_socio|nome_do_socio_ou_razao_social|cnpj_ou_cpf_do_socio|qualificacao_do_socio|data_de_entrada_sociedade|pais|representante_legal|nome_do_representante|qualificacao_do_representante_legal|faixa_etaria|\n",
      "+-----------+----------------------+-----------------------------+--------------------+---------------------+-------------------------+----+-------------------+---------------------+-----------------------------------+------------+\n",
      "|      11748|                     2|            MARIO KATUMI HOSI|         ***504158**|                   49|               1994-05-30|NULL|        ***000000**|                    -|                                  0|           7|\n",
      "|      11748|                     2|           ROBERTO YUKIO HOSI|         ***241578**|                   22|               1994-05-30|NULL|        ***000000**|                    -|                                  0|           7|\n",
      "|      13289|                     2|         ANDREIA CRISTINA ...|         ***787278**|                   65|               2018-06-15|NULL|        ***000000**|                    -|                                  0|           3|\n",
      "|      17389|                     2|         MARCIA DO CANTO A...|         ***920408**|                   49|               1994-06-13|NULL|        ***000000**|                    -|                                  0|           7|\n",
      "|      19204|                     2|         ALMIR CARLOS CAPE...|         ***299028**|                   49|               1998-09-08|NULL|        ***000000**|                    -|                                  0|           7|\n",
      "+-----------+----------------------+-----------------------------+--------------------+---------------------+-------------------------+----+-------------------+---------------------+-----------------------------------+------------+\n",
      "\n"
     ]
    }
   ],
   "source": [
    "socios_df.fillna('-').limit(5).show()"
   ]
  },
  {
   "cell_type": "markdown",
   "id": "3e6a3078-f84a-46de-8c34-3a620bd0ab78",
   "metadata": {},
   "source": [
    "# Ordenando os dados"
   ]
  },
  {
   "cell_type": "code",
   "execution_count": 62,
   "id": "b7c110fe-f5cc-49fd-ac98-c77697f3745f",
   "metadata": {},
   "outputs": [
    {
     "name": "stdout",
     "output_type": "stream",
     "text": [
      "+------------------------------+------------+--------------+\n",
      "|nome_do_socio_ou_razao_social |faixa_etaria|ano_de_entrada|\n",
      "+------------------------------+------------+--------------+\n",
      "|MARA LUCIETI MICHEL           |5           |2021          |\n",
      "|ANA LUCIA ALVES DE CARVALHO   |5           |2021          |\n",
      "|DOUGLAS CAPPELLETTI           |3           |2021          |\n",
      "|JORGE RODRIGUES SANTOS        |6           |2021          |\n",
      "|FLAVIO SOARES FERREIRA MARTINS|6           |2021          |\n",
      "+------------------------------+------------+--------------+\n",
      "only showing top 5 rows\n",
      "\n"
     ]
    }
   ],
   "source": [
    "socios_df \\\n",
    "    .select('nome_do_socio_ou_razao_social', 'faixa_etaria', f.year('data_de_entrada_sociedade').alias('ano_de_entrada'))\\\n",
    "    .orderBy('ano_de_entrada', ascending=False) \\\n",
    "    .show(5, False)\n"
   ]
  },
  {
   "cell_type": "code",
   "execution_count": 63,
   "id": "21c8d43a-938b-4624-9bbd-53e31f50b0f2",
   "metadata": {},
   "outputs": [
    {
     "name": "stdout",
     "output_type": "stream",
     "text": [
      "+------------------------------------------------------------+------------+--------------+\n",
      "|nome_do_socio_ou_razao_social                               |faixa_etaria|ano_de_entrada|\n",
      "+------------------------------------------------------------+------------+--------------+\n",
      "|CONDOMINIO SOLAR APOLO SPE LTDA                             |0           |2021          |\n",
      "|CONTERSOLO CONSTRUTORA DE OBRAS EIRELI                      |0           |2021          |\n",
      "|COMPANHIA BRASILEIRA DE SERVICOS FUNERARIOS LTDA            |0           |2021          |\n",
      "|RUSSELL BEDFORD BRASIL AUDITORES INDEPENDENTES S/S          |0           |2021          |\n",
      "|AGROSYSTEM INDUSTRIA, COMERCIO, IMPORTACAO E EXPORTACAO LTDA|0           |2021          |\n",
      "|TRISUL S.A.                                                 |0           |2021          |\n",
      "|TERRABEL EMPREENDIMENTOS LTDA                               |0           |2021          |\n",
      "|WEILLER CONSTRUCAO CIVIL LTDA                               |0           |2021          |\n",
      "|MONTE HEBROM EMREENDIMENTOS IMOBILIARIOS LTDA               |0           |2021          |\n",
      "|INCOSUL INCORPORACAO E CONSTRUCAO LTDA.                     |0           |2021          |\n",
      "|MGO PARTICIPACOES S.A.                                      |0           |2021          |\n",
      "|SCIO TECNOLOGIA LTDA                                        |0           |2021          |\n",
      "|CASTRO HERENIO SERVICOS MEDICOS LTDA                        |0           |2021          |\n",
      "|JMT PRODUCOES DE AUDIO LTDA.                                |0           |2021          |\n",
      "|FMH DESENVOLVIMENTO DE NEGOCIOS E PARTICIPACOES LTDA        |0           |2021          |\n",
      "+------------------------------------------------------------+------------+--------------+\n",
      "only showing top 15 rows\n",
      "\n"
     ]
    }
   ],
   "source": [
    "socios_df \\\n",
    "    .select('nome_do_socio_ou_razao_social', 'faixa_etaria', f.year('data_de_entrada_sociedade').alias('ano_de_entrada'))\\\n",
    "    .orderBy(['ano_de_entrada', 'faixa_etaria'], ascending=[False, True]) \\\n",
    "    .show(15, False)\n"
   ]
  },
  {
   "cell_type": "markdown",
   "id": "4429c261-a08a-47a4-80a4-e777f0187431",
   "metadata": {},
   "source": [
    "# Filtrando os dados"
   ]
  },
  {
   "cell_type": "code",
   "execution_count": 64,
   "id": "92ff83c8-b45f-49d3-a903-e5717d14db41",
   "metadata": {},
   "outputs": [
    {
     "name": "stdout",
     "output_type": "stream",
     "text": [
      "+-----------+--------------------------------------------+-----------------+---------------------------+-------------------------+----------------+---------------------------+\n",
      "|cnpj_basico|razao_social_nome_empresarial               |natureza_juridica|qualificacao_do_responsavel|capital_social_da_empresa|porte_da_empresa|ente_federativo_responsavel|\n",
      "+-----------+--------------------------------------------+-----------------+---------------------------+-------------------------+----------------+---------------------------+\n",
      "|14715041   |LIDIANE MARIA DO NASCIMENTO 14542418707     |2135             |50                         |50.0                     |1               |NULL                       |\n",
      "|20601885   |CRISTIANO AKIHITO BORDIN 04370949955        |2135             |50                         |50.0                     |1               |NULL                       |\n",
      "|23661983   |VITOR ALOISIO DO NASCIMENTO GUIA 12663882739|2135             |50                         |50.0                     |1               |NULL                       |\n",
      "|23714726   |JOSELINA PANSINI CORREIA 05265948708        |2135             |50                         |50.0                     |1               |NULL                       |\n",
      "|26022246   |SUZANE SILVA DE OLIVEIRA 06850709992        |2135             |50                         |50.0                     |1               |NULL                       |\n",
      "+-----------+--------------------------------------------+-----------------+---------------------------+-------------------------+----------------+---------------------------+\n",
      "only showing top 5 rows\n",
      "\n"
     ]
    }
   ],
   "source": [
    "empresas_df \\\n",
    "    .where('capital_social_da_empresa==50') \\\n",
    "    .show(5, False)\n"
   ]
  },
  {
   "cell_type": "code",
   "execution_count": 65,
   "id": "b35a5a3a-d0a5-4159-bbe1-e7c160dc575a",
   "metadata": {},
   "outputs": [
    {
     "data": {
      "text/html": [
       "<div>\n",
       "<style scoped>\n",
       "    .dataframe tbody tr th:only-of-type {\n",
       "        vertical-align: middle;\n",
       "    }\n",
       "\n",
       "    .dataframe tbody tr th {\n",
       "        vertical-align: top;\n",
       "    }\n",
       "\n",
       "    .dataframe thead th {\n",
       "        text-align: right;\n",
       "    }\n",
       "</style>\n",
       "<table border=\"1\" class=\"dataframe\">\n",
       "  <thead>\n",
       "    <tr style=\"text-align: right;\">\n",
       "      <th></th>\n",
       "      <th>nome_do_socio_ou_razao_social</th>\n",
       "    </tr>\n",
       "  </thead>\n",
       "  <tbody>\n",
       "    <tr>\n",
       "      <th>0</th>\n",
       "      <td>FERNANDO SOARES BATISTA</td>\n",
       "    </tr>\n",
       "    <tr>\n",
       "      <th>1</th>\n",
       "      <td>FERNANDO CESAR BATISTA</td>\n",
       "    </tr>\n",
       "    <tr>\n",
       "      <th>2</th>\n",
       "      <td>FERNANDO AUGUSTO LOPES BATISTA</td>\n",
       "    </tr>\n",
       "    <tr>\n",
       "      <th>3</th>\n",
       "      <td>FERNANDO BATISTA</td>\n",
       "    </tr>\n",
       "    <tr>\n",
       "      <th>4</th>\n",
       "      <td>FERNANDO RIBEIRO BATISTA</td>\n",
       "    </tr>\n",
       "    <tr>\n",
       "      <th>5</th>\n",
       "      <td>FERNANDO BRAGA BATISTA</td>\n",
       "    </tr>\n",
       "    <tr>\n",
       "      <th>6</th>\n",
       "      <td>FERNANDO PINTO BATISTA</td>\n",
       "    </tr>\n",
       "    <tr>\n",
       "      <th>7</th>\n",
       "      <td>FERNANDO SANTANA BATISTA</td>\n",
       "    </tr>\n",
       "    <tr>\n",
       "      <th>8</th>\n",
       "      <td>FERNANDO SANTOS BATISTA</td>\n",
       "    </tr>\n",
       "    <tr>\n",
       "      <th>9</th>\n",
       "      <td>FERNANDO JOSE NEVES BATISTA</td>\n",
       "    </tr>\n",
       "  </tbody>\n",
       "</table>\n",
       "</div>"
      ],
      "text/plain": [
       "    nome_do_socio_ou_razao_social\n",
       "0         FERNANDO SOARES BATISTA\n",
       "1          FERNANDO CESAR BATISTA\n",
       "2  FERNANDO AUGUSTO LOPES BATISTA\n",
       "3                FERNANDO BATISTA\n",
       "4        FERNANDO RIBEIRO BATISTA\n",
       "5          FERNANDO BRAGA BATISTA\n",
       "6          FERNANDO PINTO BATISTA\n",
       "7        FERNANDO SANTANA BATISTA\n",
       "8         FERNANDO SANTOS BATISTA\n",
       "9     FERNANDO JOSE NEVES BATISTA"
      ]
     },
     "execution_count": 65,
     "metadata": {},
     "output_type": "execute_result"
    }
   ],
   "source": [
    "socios_df \\\n",
    "    .select('nome_do_socio_ou_razao_social') \\\n",
    "    .filter(socios_df.nome_do_socio_ou_razao_social.startswith('FERNANDO'))\\\n",
    "    .filter(socios_df.nome_do_socio_ou_razao_social.endswith('BATISTA'))\\\n",
    "    .limit(10)\\\n",
    "    .toPandas()\n",
    "\n"
   ]
  },
  {
   "cell_type": "code",
   "execution_count": 66,
   "id": "b926696b-43da-4430-b30e-1eeb11003766",
   "metadata": {},
   "outputs": [
    {
     "name": "stdout",
     "output_type": "stream",
     "text": [
      "+---------------------+---+----+\n",
      "|nome                 |mes|ano |\n",
      "+---------------------+---+----+\n",
      "|CARMINA RABELO       |4  |2010|\n",
      "|HERONDINA PEREIRA    |6  |2009|\n",
      "|IRANI DOS SANTOS     |12 |2010|\n",
      "|JOAO BOSCO DA FONSECA|3  |2009|\n",
      "|CARLITO SOUZA        |1  |2010|\n",
      "|WALTER DIAS          |9  |2009|\n",
      "|BRENO VENTUROSO      |1  |2009|\n",
      "|ADELINA TEIXEIRA     |5  |2009|\n",
      "|ELIO SILVA           |7  |2010|\n",
      "|DENIS FONSECA        |6  |2010|\n",
      "+---------------------+---+----+\n",
      "\n"
     ]
    }
   ],
   "source": [
    "data = [\n",
    "    ('CARMINA RABELO', 4, 2010), \n",
    "    ('HERONDINA PEREIRA', 6, 2009), \n",
    "    ('IRANI DOS SANTOS', 12, 2010), \n",
    "    ('JOAO BOSCO DA FONSECA', 3, 2009), \n",
    "    ('CARLITO SOUZA', 1, 2010), \n",
    "    ('WALTER DIAS', 9, 2009), \n",
    "    ('BRENO VENTUROSO', 1, 2009), \n",
    "    ('ADELINA TEIXEIRA', 5, 2009), \n",
    "    ('ELIO SILVA', 7, 2010), \n",
    "    ('DENIS FONSECA', 6, 2010)\n",
    "]\n",
    "colNames = ['nome', 'mes', 'ano']\n",
    "df = spark.createDataFrame(data, colNames)\n",
    "df.show(truncate=False)"
   ]
  },
  {
   "cell_type": "code",
   "execution_count": 67,
   "id": "327a1f29-0a5d-4a7d-8407-37efc9d15695",
   "metadata": {},
   "outputs": [
    {
     "name": "stdout",
     "output_type": "stream",
     "text": [
      "+---------------------+---+----+\n",
      "|nome                 |mes|ano |\n",
      "+---------------------+---+----+\n",
      "|HERONDINA PEREIRA    |6  |2009|\n",
      "|JOAO BOSCO DA FONSECA|3  |2009|\n",
      "|BRENO VENTUROSO      |1  |2009|\n",
      "|ADELINA TEIXEIRA     |5  |2009|\n",
      "+---------------------+---+----+\n",
      "\n"
     ]
    }
   ],
   "source": [
    "df\\\n",
    "    .filter(\"mes<=6\")\\\n",
    "    .filter(\"ano=2009\")\\\n",
    "    .show(truncate=False)"
   ]
  },
  {
   "cell_type": "code",
   "execution_count": 68,
   "id": "4ce28fa6-eae2-425f-9a88-307e57cf01cf",
   "metadata": {},
   "outputs": [
    {
     "name": "stdout",
     "output_type": "stream",
     "text": [
      "+---------------------+---+----+\n",
      "|nome                 |mes|ano |\n",
      "+---------------------+---+----+\n",
      "|HERONDINA PEREIRA    |6  |2009|\n",
      "|JOAO BOSCO DA FONSECA|3  |2009|\n",
      "|BRENO VENTUROSO      |1  |2009|\n",
      "|ADELINA TEIXEIRA     |5  |2009|\n",
      "+---------------------+---+----+\n",
      "\n"
     ]
    }
   ],
   "source": [
    "df\\\n",
    "    .filter(\"mes<=6 and ano==2009\")\\\n",
    "    .show(truncate=False)"
   ]
  },
  {
   "cell_type": "code",
   "execution_count": 69,
   "id": "e964fb0c-5e9e-4e14-9acb-abdd6b8dc012",
   "metadata": {},
   "outputs": [
    {
     "name": "stdout",
     "output_type": "stream",
     "text": [
      "+---------------------+---+----+\n",
      "|nome                 |mes|ano |\n",
      "+---------------------+---+----+\n",
      "|HERONDINA PEREIRA    |6  |2009|\n",
      "|JOAO BOSCO DA FONSECA|3  |2009|\n",
      "|BRENO VENTUROSO      |1  |2009|\n",
      "|ADELINA TEIXEIRA     |5  |2009|\n",
      "+---------------------+---+----+\n",
      "\n"
     ]
    }
   ],
   "source": [
    "df\\\n",
    "    .filter(df.mes <= 6)\\\n",
    "    .filter(df.ano == 2009)\\\n",
    "    .show(truncate=False)"
   ]
  },
  {
   "cell_type": "code",
   "execution_count": 70,
   "id": "af16c36a-5081-40b0-b464-4f318946a3c3",
   "metadata": {},
   "outputs": [
    {
     "name": "stdout",
     "output_type": "stream",
     "text": [
      "+---------------------+---+----+\n",
      "|nome                 |mes|ano |\n",
      "+---------------------+---+----+\n",
      "|HERONDINA PEREIRA    |6  |2009|\n",
      "|JOAO BOSCO DA FONSECA|3  |2009|\n",
      "|BRENO VENTUROSO      |1  |2009|\n",
      "|ADELINA TEIXEIRA     |5  |2009|\n",
      "+---------------------+---+----+\n",
      "\n"
     ]
    }
   ],
   "source": [
    "df\\\n",
    "    .filter((df.mes <= 6) & (df.ano == 2009))\\\n",
    "    .show(truncate=False)"
   ]
  },
  {
   "cell_type": "markdown",
   "id": "23f853ee-110e-4ec5-8c50-9e757e89a2b8",
   "metadata": {},
   "source": [
    "# Comando LIKE"
   ]
  },
  {
   "cell_type": "code",
   "execution_count": 71,
   "id": "595a00e4-4ec7-4be9-b9ad-9eeefcfda3b9",
   "metadata": {},
   "outputs": [
    {
     "data": {
      "text/html": [
       "<div>\n",
       "<style scoped>\n",
       "    .dataframe tbody tr th:only-of-type {\n",
       "        vertical-align: middle;\n",
       "    }\n",
       "\n",
       "    .dataframe tbody tr th {\n",
       "        vertical-align: top;\n",
       "    }\n",
       "\n",
       "    .dataframe thead th {\n",
       "        text-align: right;\n",
       "    }\n",
       "</style>\n",
       "<table border=\"1\" class=\"dataframe\">\n",
       "  <thead>\n",
       "    <tr style=\"text-align: right;\">\n",
       "      <th></th>\n",
       "      <th>data</th>\n",
       "    </tr>\n",
       "  </thead>\n",
       "  <tbody>\n",
       "    <tr>\n",
       "      <th>0</th>\n",
       "      <td>RESTAURANTE DO RUI</td>\n",
       "    </tr>\n",
       "    <tr>\n",
       "      <th>1</th>\n",
       "      <td>Juca restaurantes ltda</td>\n",
       "    </tr>\n",
       "    <tr>\n",
       "      <th>2</th>\n",
       "      <td>Joca Restaurante</td>\n",
       "    </tr>\n",
       "  </tbody>\n",
       "</table>\n",
       "</div>"
      ],
      "text/plain": [
       "                     data\n",
       "0      RESTAURANTE DO RUI\n",
       "1  Juca restaurantes ltda\n",
       "2        Joca Restaurante"
      ]
     },
     "execution_count": 71,
     "metadata": {},
     "output_type": "execute_result"
    }
   ],
   "source": [
    "df = spark.createDataFrame([('RESTAURANTE DO RUI',), ('Juca restaurantes ltda',), ('Joca Restaurante',)], ['data'])\n",
    "df.toPandas()"
   ]
  },
  {
   "cell_type": "code",
   "execution_count": 72,
   "id": "2cbab340-cc13-45e7-bd26-03a040bc7cae",
   "metadata": {},
   "outputs": [
    {
     "name": "stdout",
     "output_type": "stream",
     "text": [
      "+------------------+\n",
      "|data              |\n",
      "+------------------+\n",
      "|RESTAURANTE DO RUI|\n",
      "+------------------+\n",
      "\n"
     ]
    }
   ],
   "source": [
    "df\\\n",
    "    .where(f.upper(df.data).like('RESTAURANTE%'))\\\n",
    "    .show(truncate=False)"
   ]
  },
  {
   "cell_type": "code",
   "execution_count": 73,
   "id": "9fbc03fa-d306-459d-ba51-428fa5fd9221",
   "metadata": {},
   "outputs": [
    {
     "name": "stdout",
     "output_type": "stream",
     "text": [
      "+-----------------------------------------+-----------------+----------------+-------------------------+\n",
      "|razao_social_nome_empresarial            |natureza_juridica|porte_da_empresa|capital_social_da_empresa|\n",
      "+-----------------------------------------+-----------------+----------------+-------------------------+\n",
      "|RESTAURANTE E PETISQUERIA MANE CANTO LTDA|2062             |5               |0.0                      |\n",
      "|RESTAURANTE E LANCHONETE NOVAES LTDA     |2062             |1               |0.0                      |\n",
      "|RESTAURANTE GALEAO 2420 LTDA             |2062             |1               |0.0                      |\n",
      "|RESTAURANTE DIVINO SABOR LTDA            |2062             |1               |0.0                      |\n",
      "|RESTAURANTE E PIZZARIA LUIS GOES LTDA    |2062             |1               |0.0                      |\n",
      "|RESTAURANTE E PIZZARIA NOTA DEZ LTDA     |2062             |1               |5000.0                   |\n",
      "|RESTAURANTE SO CHURRASCO LTDA            |2062             |1               |10000.0                  |\n",
      "|RESTAURANTE SAPISA LTDA.                 |2062             |3               |100000.0                 |\n",
      "|RESTAURANTE MENDES E CORDEIRO LTDA       |2062             |1               |30000.0                  |\n",
      "|RESTAURANTE VALDEIR DELICIAS LTDA        |2062             |1               |20000.0                  |\n",
      "|RESTAURANTE TANGO LTDA                   |2062             |1               |30000.0                  |\n",
      "|RESTAURANTE KASBAH LTDA                  |2062             |5               |0.0                      |\n",
      "|RESTAURANTE DOS AMIGOS DA PIEDADE LTDA   |2062             |5               |0.0                      |\n",
      "|RESTAURANTE SABOR DE MARE LTDA           |2062             |5               |0.0                      |\n",
      "|RESTAURANTE E LANCHONETE KM 130 LTDA     |2062             |5               |0.0                      |\n",
      "+-----------------------------------------+-----------------+----------------+-------------------------+\n",
      "only showing top 15 rows\n",
      "\n"
     ]
    }
   ],
   "source": [
    "empresas_df \\\n",
    "    .select('razao_social_nome_empresarial', 'natureza_juridica', 'porte_da_empresa', 'capital_social_da_empresa') \\\n",
    "    .filter(f.lower(empresas_df.razao_social_nome_empresarial).like('restaurante%')) \\\n",
    "    .show(15, False)"
   ]
  },
  {
   "cell_type": "code",
   "execution_count": 74,
   "id": "04c343ed-ef9a-420b-9de3-63a005d9d82f",
   "metadata": {},
   "outputs": [
    {
     "name": "stdout",
     "output_type": "stream",
     "text": [
      "+-----------------------------------------------------+-----------------+----------------+-------------------------+\n",
      "|razao_social_nome_empresarial                        |natureza_juridica|porte_da_empresa|capital_social_da_empresa|\n",
      "+-----------------------------------------------------+-----------------+----------------+-------------------------+\n",
      "|PRAIA MAR RESTAURANTE LTDA                           |2062             |5               |20000.0                  |\n",
      "|MORENO'S RESTAURANTE E LANCHONETE LTDA               |2062             |1               |0.0                      |\n",
      "|RESTAURANTE E PETISQUERIA MANE CANTO LTDA            |2062             |5               |0.0                      |\n",
      "|J.C.DE OLIVEIRA RESTAURANTE                          |2135             |5               |0.0                      |\n",
      "|RESTAURANTE E LANCHONETE NOVAES LTDA                 |2062             |1               |0.0                      |\n",
      "|RESTAURANTE GALEAO 2420 LTDA                         |2062             |1               |0.0                      |\n",
      "|R.C. GAINO RESTAURANTE E PIZZARIA                    |2135             |1               |10000.0                  |\n",
      "|TBM MULTI SERVICOS E RESTAURANTE LTDA                |2062             |1               |60000.0                  |\n",
      "|NIR-RESTAURANTE INDUSTRIAL E REFEICOES COLETIVAS LTDA|2062             |5               |0.0                      |\n",
      "|RESTAURANTE DIVINO SABOR LTDA                        |2062             |1               |0.0                      |\n",
      "|NE RESTAURANTE E COMERCIO LTDA                       |2062             |1               |0.0                      |\n",
      "|E. R. GUERRA RESTAURANTE                             |2135             |1               |0.0                      |\n",
      "|BAR E RESTAURANTE SABOR ESPECIAL LTDA                |2062             |5               |0.0                      |\n",
      "|RESTAURANTE E PIZZARIA LUIS GOES LTDA                |2062             |1               |0.0                      |\n",
      "|ILHA BELA TATUAPE BAR E RESTAURANTE LTDA             |2062             |1               |0.0                      |\n",
      "+-----------------------------------------------------+-----------------+----------------+-------------------------+\n",
      "only showing top 15 rows\n",
      "\n"
     ]
    }
   ],
   "source": [
    "empresas_df \\\n",
    "    .select('razao_social_nome_empresarial', 'natureza_juridica', 'porte_da_empresa', 'capital_social_da_empresa') \\\n",
    "    .filter(f.upper(empresas_df['razao_social_nome_empresarial']).like('%RESTAURANTE%')) \\\n",
    "    .show(15, False)"
   ]
  },
  {
   "cell_type": "markdown",
   "id": "134b4156-f740-428f-9a64-01d6b5ccb084",
   "metadata": {},
   "source": [
    "# Agregações e Junções"
   ]
  },
  {
   "cell_type": "markdown",
   "id": "8dc60146-2d5e-48b1-829d-033e299b4576",
   "metadata": {},
   "source": [
    "## Sumarizando os dados"
   ]
  },
  {
   "cell_type": "code",
   "execution_count": 75,
   "id": "61c8e5ce-d73c-4e7d-8bb0-7772f63c7b1b",
   "metadata": {},
   "outputs": [
    {
     "name": "stdout",
     "output_type": "stream",
     "text": [
      "+--------------+------+\n",
      "|ano_de_entrada| count|\n",
      "+--------------+------+\n",
      "|          2010| 79337|\n",
      "|          2011| 83906|\n",
      "|          2012| 80101|\n",
      "|          2013| 83919|\n",
      "|          2014| 80590|\n",
      "|          2015| 80906|\n",
      "|          2016| 81587|\n",
      "|          2017| 90221|\n",
      "|          2018| 99935|\n",
      "|          2019|118248|\n",
      "|          2020|125927|\n",
      "|          2021| 56316|\n",
      "+--------------+------+\n",
      "\n"
     ]
    }
   ],
   "source": [
    "socios_df\\\n",
    "    .select(f.year('data_de_entrada_sociedade').alias('ano_de_entrada'))\\\n",
    "    .where(\"ano_de_entrada >= 2010\")\\\n",
    "    .groupBy(\"ano_de_entrada\")\\\n",
    "    .count()\\\n",
    "    .orderBy('ano_de_entrada', ascending=True)\\\n",
    "    .show()"
   ]
  },
  {
   "cell_type": "code",
   "execution_count": 76,
   "id": "960bb35b-818e-4cdb-a361-881f7bb019f5",
   "metadata": {},
   "outputs": [
    {
     "name": "stdout",
     "output_type": "stream",
     "text": [
      "+----------------+--------------------+----------+\n",
      "|porte_da_empresa|capital_social_medio|frequencia|\n",
      "+----------------+--------------------+----------+\n",
      "|            NULL|    8.35421888053467|      5985|\n",
      "|               1|  339994.53313507047|   3129043|\n",
      "|               3|  2601001.7677092687|    115151|\n",
      "|               5|   708660.4208249794|   1335500|\n",
      "+----------------+--------------------+----------+\n",
      "\n"
     ]
    }
   ],
   "source": [
    "empresas_df\\\n",
    "    .select('cnpj_basico', 'porte_da_empresa', 'capital_social_da_empresa')\\\n",
    "    .groupBy('porte_da_empresa')\\\n",
    "    .agg(\n",
    "        f.avg(\"capital_social_da_empresa\").alias(\"capital_social_medio\"),\n",
    "        f.count(\"cnpj_basico\").alias(\"frequencia\")\n",
    "    )\\\n",
    "    .orderBy('porte_da_empresa', ascending=True)\\\n",
    "    .show()"
   ]
  },
  {
   "cell_type": "code",
   "execution_count": 77,
   "id": "dc96137c-3ff1-4944-82d2-c4b3e5d4ed33",
   "metadata": {},
   "outputs": [
    {
     "name": "stdout",
     "output_type": "stream",
     "text": [
      "+-------+-------------------------+\n",
      "|summary|capital_social_da_empresa|\n",
      "+-------+-------------------------+\n",
      "|  count|                  4585679|\n",
      "|   mean|       503694.54785426764|\n",
      "| stddev|      2.111869149053764E8|\n",
      "|    min|                      0.0|\n",
      "|    25%|                      0.0|\n",
      "|    50%|                   1000.0|\n",
      "|    75%|                   7000.0|\n",
      "|    max|         3.22014670262E11|\n",
      "+-------+-------------------------+\n",
      "\n"
     ]
    }
   ],
   "source": [
    "empresas_df\\\n",
    "    .select('capital_social_da_empresa')\\\n",
    "    .summary()\\\n",
    "    .show()\n",
    "# .summary(\"count\",\"mean\",\"stddev\",\"min\",\"25%\",\"50%\",\"75%\",\"max\")"
   ]
  },
  {
   "cell_type": "markdown",
   "id": "c163a497-2b04-46dd-b6a3-187361eb6d10",
   "metadata": {},
   "source": [
    "## A função `when`"
   ]
  },
  {
   "cell_type": "code",
   "execution_count": 78,
   "id": "0a78f084-a6a3-4cb8-84fd-9eaaa5871ac4",
   "metadata": {},
   "outputs": [
    {
     "name": "stdout",
     "output_type": "stream",
     "text": [
      "+-------+----------+----+\n",
      "|   nome|   materia|nota|\n",
      "+-------+----------+----+\n",
      "| CARLOS|MATEMÁTICA|   7|\n",
      "|    IVO|MATEMÁTICA|   9|\n",
      "| MÁRCIA|MATEMÁTICA|   8|\n",
      "|  LEILA|MATEMÁTICA|   9|\n",
      "|  BRENO|MATEMÁTICA|   7|\n",
      "|LETÍCIA|MATEMÁTICA|   8|\n",
      "| CARLOS|    FÍSICA|   2|\n",
      "|    IVO|    FÍSICA|   8|\n",
      "| MÁRCIA|    FÍSICA|  10|\n",
      "|  LEILA|    FÍSICA|   9|\n",
      "|  BRENO|    FÍSICA|   1|\n",
      "|LETÍCIA|    FÍSICA|   6|\n",
      "| CARLOS|   QUÍMICA|  10|\n",
      "|    IVO|   QUÍMICA|   8|\n",
      "| MÁRCIA|   QUÍMICA|   1|\n",
      "|  LEILA|   QUÍMICA|  10|\n",
      "|  BRENO|   QUÍMICA|   7|\n",
      "|LETÍCIA|   QUÍMICA|   9|\n",
      "+-------+----------+----+\n",
      "\n"
     ]
    }
   ],
   "source": [
    "data = [\n",
    "    ('CARLOS', 'MATEMÁTICA', 7), \n",
    "    ('IVO', 'MATEMÁTICA', 9), \n",
    "    ('MÁRCIA', 'MATEMÁTICA', 8), \n",
    "    ('LEILA', 'MATEMÁTICA', 9), \n",
    "    ('BRENO', 'MATEMÁTICA', 7), \n",
    "    ('LETÍCIA', 'MATEMÁTICA', 8), \n",
    "    ('CARLOS', 'FÍSICA', 2), \n",
    "    ('IVO', 'FÍSICA', 8), \n",
    "    ('MÁRCIA', 'FÍSICA', 10), \n",
    "    ('LEILA', 'FÍSICA', 9), \n",
    "    ('BRENO', 'FÍSICA', 1), \n",
    "    ('LETÍCIA', 'FÍSICA', 6), \n",
    "    ('CARLOS', 'QUÍMICA', 10), \n",
    "    ('IVO', 'QUÍMICA', 8), \n",
    "    ('MÁRCIA', 'QUÍMICA', 1), \n",
    "    ('LEILA', 'QUÍMICA', 10), \n",
    "    ('BRENO', 'QUÍMICA', 7), \n",
    "    ('LETÍCIA', 'QUÍMICA', 9)\n",
    "]\n",
    "colNames = ['nome', 'materia', 'nota']\n",
    "df = spark.createDataFrame(data, colNames)\n",
    "df.show()"
   ]
  },
  {
   "cell_type": "code",
   "execution_count": 79,
   "id": "89da437e-cdfb-42cb-b3ae-0fce4fde21ee",
   "metadata": {},
   "outputs": [
    {
     "name": "stdout",
     "output_type": "stream",
     "text": [
      "+-------+----------+----+-----------+\n",
      "|   nome|   materia|nota|     status|\n",
      "+-------+----------+----+-----------+\n",
      "| CARLOS|MATEMÁTICA|   7|   APROVADO|\n",
      "|    IVO|MATEMÁTICA|   9|OS MELHORES|\n",
      "| MÁRCIA|MATEMÁTICA|   8|   APROVADO|\n",
      "|  LEILA|MATEMÁTICA|   9|OS MELHORES|\n",
      "|  BRENO|MATEMÁTICA|   7|   APROVADO|\n",
      "|LETÍCIA|MATEMÁTICA|   8|   APROVADO|\n",
      "| CARLOS|    FÍSICA|   2|  REPROVADO|\n",
      "|    IVO|    FÍSICA|   8|   APROVADO|\n",
      "| MÁRCIA|    FÍSICA|  10|OS MELHORES|\n",
      "|  LEILA|    FÍSICA|   9|OS MELHORES|\n",
      "|  BRENO|    FÍSICA|   1|  REPROVADO|\n",
      "|LETÍCIA|    FÍSICA|   6|   APROVADO|\n",
      "| CARLOS|   QUÍMICA|  10|OS MELHORES|\n",
      "|    IVO|   QUÍMICA|   8|   APROVADO|\n",
      "| MÁRCIA|   QUÍMICA|   1|  REPROVADO|\n",
      "|  LEILA|   QUÍMICA|  10|OS MELHORES|\n",
      "|  BRENO|   QUÍMICA|   7|   APROVADO|\n",
      "|LETÍCIA|   QUÍMICA|   9|OS MELHORES|\n",
      "+-------+----------+----+-----------+\n",
      "\n"
     ]
    }
   ],
   "source": [
    "df = df.withColumn('status', f.when(df.nota > 8, \"OS MELHORES\").when(df.nota >= 5, \"APROVADO\").otherwise(\"REPROVADO\"))\n",
    "df.show()"
   ]
  },
  {
   "cell_type": "markdown",
   "id": "258608d7-3b38-483b-8d7b-9739d357ea87",
   "metadata": {},
   "source": [
    "## Juntando DataFrames - Joins"
   ]
  },
  {
   "cell_type": "code",
   "execution_count": 80,
   "id": "4c8f637f-e8e8-49c0-8bf8-4dd4dcdb93e0",
   "metadata": {},
   "outputs": [],
   "source": [
    "produtos = spark.createDataFrame(\n",
    "    [\n",
    "        ('1', 'Bebidas', 'Água mineral'), \n",
    "        ('2', 'Limpeza', 'Sabão em pó'), \n",
    "        ('3', 'Frios', 'Queijo'), \n",
    "        ('4', 'Bebidas', 'Refrigerante'),\n",
    "        ('5', 'Pet', 'Ração para cães')\n",
    "    ],\n",
    "    ['id', 'cat', 'prod']\n",
    ")\n",
    "\n",
    "impostos = spark.createDataFrame(\n",
    "    [\n",
    "        ('Bebidas', 0.15), \n",
    "        ('Limpeza', 0.05),\n",
    "        ('Frios', 0.065),\n",
    "        ('Carnes', 0.08)\n",
    "    ],\n",
    "    ['cat', 'tax']\n",
    ")"
   ]
  },
  {
   "cell_type": "code",
   "execution_count": 81,
   "id": "25ab6de7-f7f2-4b8b-a4bc-7ff66b281105",
   "metadata": {},
   "outputs": [
    {
     "data": {
      "text/html": [
       "<div>\n",
       "<style scoped>\n",
       "    .dataframe tbody tr th:only-of-type {\n",
       "        vertical-align: middle;\n",
       "    }\n",
       "\n",
       "    .dataframe tbody tr th {\n",
       "        vertical-align: top;\n",
       "    }\n",
       "\n",
       "    .dataframe thead th {\n",
       "        text-align: right;\n",
       "    }\n",
       "</style>\n",
       "<table border=\"1\" class=\"dataframe\">\n",
       "  <thead>\n",
       "    <tr style=\"text-align: right;\">\n",
       "      <th></th>\n",
       "      <th>id</th>\n",
       "      <th>cat</th>\n",
       "      <th>prod</th>\n",
       "    </tr>\n",
       "  </thead>\n",
       "  <tbody>\n",
       "    <tr>\n",
       "      <th>0</th>\n",
       "      <td>1</td>\n",
       "      <td>Bebidas</td>\n",
       "      <td>Água mineral</td>\n",
       "    </tr>\n",
       "    <tr>\n",
       "      <th>1</th>\n",
       "      <td>2</td>\n",
       "      <td>Limpeza</td>\n",
       "      <td>Sabão em pó</td>\n",
       "    </tr>\n",
       "    <tr>\n",
       "      <th>2</th>\n",
       "      <td>3</td>\n",
       "      <td>Frios</td>\n",
       "      <td>Queijo</td>\n",
       "    </tr>\n",
       "    <tr>\n",
       "      <th>3</th>\n",
       "      <td>4</td>\n",
       "      <td>Bebidas</td>\n",
       "      <td>Refrigerante</td>\n",
       "    </tr>\n",
       "    <tr>\n",
       "      <th>4</th>\n",
       "      <td>5</td>\n",
       "      <td>Pet</td>\n",
       "      <td>Ração para cães</td>\n",
       "    </tr>\n",
       "  </tbody>\n",
       "</table>\n",
       "</div>"
      ],
      "text/plain": [
       "  id      cat             prod\n",
       "0  1  Bebidas     Água mineral\n",
       "1  2  Limpeza      Sabão em pó\n",
       "2  3    Frios           Queijo\n",
       "3  4  Bebidas     Refrigerante\n",
       "4  5      Pet  Ração para cães"
      ]
     },
     "execution_count": 81,
     "metadata": {},
     "output_type": "execute_result"
    }
   ],
   "source": [
    "produtos.toPandas()"
   ]
  },
  {
   "cell_type": "code",
   "execution_count": 82,
   "id": "dc3c79ee-5232-42d1-82a2-cb9c5011d302",
   "metadata": {},
   "outputs": [
    {
     "data": {
      "text/html": [
       "<div>\n",
       "<style scoped>\n",
       "    .dataframe tbody tr th:only-of-type {\n",
       "        vertical-align: middle;\n",
       "    }\n",
       "\n",
       "    .dataframe tbody tr th {\n",
       "        vertical-align: top;\n",
       "    }\n",
       "\n",
       "    .dataframe thead th {\n",
       "        text-align: right;\n",
       "    }\n",
       "</style>\n",
       "<table border=\"1\" class=\"dataframe\">\n",
       "  <thead>\n",
       "    <tr style=\"text-align: right;\">\n",
       "      <th></th>\n",
       "      <th>cat</th>\n",
       "      <th>tax</th>\n",
       "    </tr>\n",
       "  </thead>\n",
       "  <tbody>\n",
       "    <tr>\n",
       "      <th>0</th>\n",
       "      <td>Bebidas</td>\n",
       "      <td>0.150</td>\n",
       "    </tr>\n",
       "    <tr>\n",
       "      <th>1</th>\n",
       "      <td>Limpeza</td>\n",
       "      <td>0.050</td>\n",
       "    </tr>\n",
       "    <tr>\n",
       "      <th>2</th>\n",
       "      <td>Frios</td>\n",
       "      <td>0.065</td>\n",
       "    </tr>\n",
       "    <tr>\n",
       "      <th>3</th>\n",
       "      <td>Carnes</td>\n",
       "      <td>0.080</td>\n",
       "    </tr>\n",
       "  </tbody>\n",
       "</table>\n",
       "</div>"
      ],
      "text/plain": [
       "       cat    tax\n",
       "0  Bebidas  0.150\n",
       "1  Limpeza  0.050\n",
       "2    Frios  0.065\n",
       "3   Carnes  0.080"
      ]
     },
     "execution_count": 82,
     "metadata": {},
     "output_type": "execute_result"
    }
   ],
   "source": [
    "impostos.toPandas()"
   ]
  },
  {
   "cell_type": "code",
   "execution_count": 83,
   "id": "6d653fb4-3c2a-41c6-9c7c-c86e613a35d6",
   "metadata": {},
   "outputs": [
    {
     "name": "stdout",
     "output_type": "stream",
     "text": [
      "+-------+---+------------+-----+\n",
      "|    cat| id|        prod|  tax|\n",
      "+-------+---+------------+-----+\n",
      "|Bebidas|  1|Água mineral| 0.15|\n",
      "|Limpeza|  2| Sabão em pó| 0.05|\n",
      "|  Frios|  3|      Queijo|0.065|\n",
      "|Bebidas|  4|Refrigerante| 0.15|\n",
      "+-------+---+------------+-----+\n",
      "\n"
     ]
    }
   ],
   "source": [
    "produtos.join(impostos, on='cat', how='inner').sort('id').show()"
   ]
  },
  {
   "cell_type": "code",
   "execution_count": 84,
   "id": "293b27c0-a672-4df1-aa1b-b778f5d855c7",
   "metadata": {},
   "outputs": [
    {
     "name": "stdout",
     "output_type": "stream",
     "text": [
      "+-------+---+---------------+-----+\n",
      "|    cat| id|           prod|  tax|\n",
      "+-------+---+---------------+-----+\n",
      "|Bebidas|  1|   Água mineral| 0.15|\n",
      "|Limpeza|  2|    Sabão em pó| 0.05|\n",
      "|  Frios|  3|         Queijo|0.065|\n",
      "|Bebidas|  4|   Refrigerante| 0.15|\n",
      "|    Pet|  5|Ração para cães| NULL|\n",
      "+-------+---+---------------+-----+\n",
      "\n"
     ]
    }
   ],
   "source": [
    "produtos.join(impostos, on='cat', how='left').sort('id').show()"
   ]
  },
  {
   "cell_type": "code",
   "execution_count": 85,
   "id": "f0fd04f9-2806-4eca-a927-31d8da84d16d",
   "metadata": {},
   "outputs": [
    {
     "name": "stdout",
     "output_type": "stream",
     "text": [
      "+-------+----+------------+-----+\n",
      "|    cat|  id|        prod|  tax|\n",
      "+-------+----+------------+-----+\n",
      "| Carnes|NULL|        NULL| 0.08|\n",
      "|Bebidas|   1|Água mineral| 0.15|\n",
      "|Limpeza|   2| Sabão em pó| 0.05|\n",
      "|  Frios|   3|      Queijo|0.065|\n",
      "|Bebidas|   4|Refrigerante| 0.15|\n",
      "+-------+----+------------+-----+\n",
      "\n"
     ]
    }
   ],
   "source": [
    "produtos.join(impostos, on='cat', how='right').sort('id').show()"
   ]
  },
  {
   "cell_type": "code",
   "execution_count": 86,
   "id": "184fc2b6-d119-4693-b8e8-b6b0a476fbc7",
   "metadata": {},
   "outputs": [
    {
     "name": "stdout",
     "output_type": "stream",
     "text": [
      "+-------+----+---------------+-----+\n",
      "|    cat|  id|           prod|  tax|\n",
      "+-------+----+---------------+-----+\n",
      "| Carnes|NULL|           NULL| 0.08|\n",
      "|Bebidas|   1|   Água mineral| 0.15|\n",
      "|Limpeza|   2|    Sabão em pó| 0.05|\n",
      "|  Frios|   3|         Queijo|0.065|\n",
      "|Bebidas|   4|   Refrigerante| 0.15|\n",
      "|    Pet|   5|Ração para cães| NULL|\n",
      "+-------+----+---------------+-----+\n",
      "\n"
     ]
    }
   ],
   "source": [
    "produtos.join(impostos, on='cat', how='outer').sort('id').show()"
   ]
  },
  {
   "cell_type": "code",
   "execution_count": 87,
   "id": "5b1eeae2-7dfb-4710-a6d1-d9c718c57a6e",
   "metadata": {},
   "outputs": [
    {
     "name": "stdout",
     "output_type": "stream",
     "text": [
      "root\n",
      " |-- cnpj_basico: integer (nullable = true)\n",
      " |-- razao_social_nome_empresarial: string (nullable = true)\n",
      " |-- natureza_juridica: integer (nullable = true)\n",
      " |-- qualificacao_do_responsavel: integer (nullable = true)\n",
      " |-- capital_social_da_empresa: double (nullable = true)\n",
      " |-- porte_da_empresa: integer (nullable = true)\n",
      " |-- ente_federativo_responsavel: string (nullable = true)\n",
      "\n"
     ]
    }
   ],
   "source": [
    "empresas_df.printSchema()"
   ]
  },
  {
   "cell_type": "code",
   "execution_count": 88,
   "id": "8d55008e-f928-490c-a726-f81300ed6348",
   "metadata": {},
   "outputs": [
    {
     "name": "stdout",
     "output_type": "stream",
     "text": [
      "root\n",
      " |-- cnpj_basico: integer (nullable = true)\n",
      " |-- identificador_de_socio: integer (nullable = true)\n",
      " |-- nome_do_socio_ou_razao_social: string (nullable = true)\n",
      " |-- cnpj_ou_cpf_do_socio: string (nullable = true)\n",
      " |-- qualificacao_do_socio: integer (nullable = true)\n",
      " |-- data_de_entrada_sociedade: date (nullable = true)\n",
      " |-- pais: integer (nullable = true)\n",
      " |-- representante_legal: string (nullable = true)\n",
      " |-- nome_do_representante: string (nullable = true)\n",
      " |-- qualificacao_do_representante_legal: integer (nullable = true)\n",
      " |-- faixa_etaria: integer (nullable = true)\n",
      "\n"
     ]
    }
   ],
   "source": [
    "socios_df.printSchema()"
   ]
  },
  {
   "cell_type": "code",
   "execution_count": 89,
   "id": "55bb1922-f31f-4833-b657-8ebf9c020e2a",
   "metadata": {},
   "outputs": [
    {
     "name": "stdout",
     "output_type": "stream",
     "text": [
      "root\n",
      " |-- cnpj_basico: integer (nullable = true)\n",
      " |-- cnpj_ordem: integer (nullable = true)\n",
      " |-- cnpj_dv: integer (nullable = true)\n",
      " |-- identificador_matriz_filial: integer (nullable = true)\n",
      " |-- nome_fantasia: string (nullable = true)\n",
      " |-- situacao_cadastral: integer (nullable = true)\n",
      " |-- data_situacao_cadastral: date (nullable = true)\n",
      " |-- motivo_situacao_cadastral: integer (nullable = true)\n",
      " |-- nome_da_cidade_no_exterior: string (nullable = true)\n",
      " |-- pais: integer (nullable = true)\n",
      " |-- data_de_inicio_atividade: date (nullable = true)\n",
      " |-- cnae_fiscal_principal: integer (nullable = true)\n",
      " |-- cnae_fiscal_secundaria: string (nullable = true)\n",
      " |-- tipo_de_logradouro: string (nullable = true)\n",
      " |-- logradouro: string (nullable = true)\n",
      " |-- numero: string (nullable = true)\n",
      " |-- complemento: string (nullable = true)\n",
      " |-- bairro: string (nullable = true)\n",
      " |-- cep: integer (nullable = true)\n",
      " |-- uf: string (nullable = true)\n",
      " |-- municipio: integer (nullable = true)\n",
      " |-- ddd_1: string (nullable = true)\n",
      " |-- telefone_1: string (nullable = true)\n",
      " |-- ddd_2: integer (nullable = true)\n",
      " |-- telefone_2: string (nullable = true)\n",
      " |-- ddd_do_fax: integer (nullable = true)\n",
      " |-- fax: string (nullable = true)\n",
      " |-- correio_eletronico: string (nullable = true)\n",
      " |-- situacao_especial: string (nullable = true)\n",
      " |-- data_da_situacao_especial: date (nullable = true)\n",
      "\n"
     ]
    }
   ],
   "source": [
    "estabelecimentos_df.printSchema()"
   ]
  },
  {
   "cell_type": "code",
   "execution_count": 90,
   "id": "d771a99a-50a6-4487-a287-e9ee15bd7fcb",
   "metadata": {},
   "outputs": [],
   "source": [
    "empresa_join = estabelecimentos_df.join(empresas_df, 'cnpj_basico', how='inner')"
   ]
  },
  {
   "cell_type": "code",
   "execution_count": 91,
   "id": "73a77576-eec0-4a51-ad4b-f7374ce431f0",
   "metadata": {},
   "outputs": [
    {
     "name": "stdout",
     "output_type": "stream",
     "text": [
      "root\n",
      " |-- cnpj_basico: integer (nullable = true)\n",
      " |-- cnpj_ordem: integer (nullable = true)\n",
      " |-- cnpj_dv: integer (nullable = true)\n",
      " |-- identificador_matriz_filial: integer (nullable = true)\n",
      " |-- nome_fantasia: string (nullable = true)\n",
      " |-- situacao_cadastral: integer (nullable = true)\n",
      " |-- data_situacao_cadastral: date (nullable = true)\n",
      " |-- motivo_situacao_cadastral: integer (nullable = true)\n",
      " |-- nome_da_cidade_no_exterior: string (nullable = true)\n",
      " |-- pais: integer (nullable = true)\n",
      " |-- data_de_inicio_atividade: date (nullable = true)\n",
      " |-- cnae_fiscal_principal: integer (nullable = true)\n",
      " |-- cnae_fiscal_secundaria: string (nullable = true)\n",
      " |-- tipo_de_logradouro: string (nullable = true)\n",
      " |-- logradouro: string (nullable = true)\n",
      " |-- numero: string (nullable = true)\n",
      " |-- complemento: string (nullable = true)\n",
      " |-- bairro: string (nullable = true)\n",
      " |-- cep: integer (nullable = true)\n",
      " |-- uf: string (nullable = true)\n",
      " |-- municipio: integer (nullable = true)\n",
      " |-- ddd_1: string (nullable = true)\n",
      " |-- telefone_1: string (nullable = true)\n",
      " |-- ddd_2: integer (nullable = true)\n",
      " |-- telefone_2: string (nullable = true)\n",
      " |-- ddd_do_fax: integer (nullable = true)\n",
      " |-- fax: string (nullable = true)\n",
      " |-- correio_eletronico: string (nullable = true)\n",
      " |-- situacao_especial: string (nullable = true)\n",
      " |-- data_da_situacao_especial: date (nullable = true)\n",
      " |-- razao_social_nome_empresarial: string (nullable = true)\n",
      " |-- natureza_juridica: integer (nullable = true)\n",
      " |-- qualificacao_do_responsavel: integer (nullable = true)\n",
      " |-- capital_social_da_empresa: double (nullable = true)\n",
      " |-- porte_da_empresa: integer (nullable = true)\n",
      " |-- ente_federativo_responsavel: string (nullable = true)\n",
      "\n"
     ]
    }
   ],
   "source": [
    "empresa_join.printSchema()"
   ]
  },
  {
   "cell_type": "code",
   "execution_count": 92,
   "id": "0ff03543-0bec-4657-96e1-2b348d7bfd0d",
   "metadata": {},
   "outputs": [],
   "source": [
    "freq = empresa_join\\\n",
    "    .select(\n",
    "        'cnpj_basico',\n",
    "        f.year(empresa_join.data_de_inicio_atividade).alias('data_de_inicio')\n",
    "    )\\\n",
    "    .where('data_de_inicio >= 2010')\\\n",
    "    .groupBy('data_de_inicio')\\\n",
    "    .agg(f.count('cnpj_basico').alias('frequencia'))\\\n",
    "    .orderBy('data_de_inicio', ascending=True)\n"
   ]
  },
  {
   "cell_type": "code",
   "execution_count": 93,
   "id": "84654640-5f7f-4ed6-8958-1dd466194706",
   "metadata": {},
   "outputs": [
    {
     "data": {
      "text/html": [
       "<div>\n",
       "<style scoped>\n",
       "    .dataframe tbody tr th:only-of-type {\n",
       "        vertical-align: middle;\n",
       "    }\n",
       "\n",
       "    .dataframe tbody tr th {\n",
       "        vertical-align: top;\n",
       "    }\n",
       "\n",
       "    .dataframe thead th {\n",
       "        text-align: right;\n",
       "    }\n",
       "</style>\n",
       "<table border=\"1\" class=\"dataframe\">\n",
       "  <thead>\n",
       "    <tr style=\"text-align: right;\">\n",
       "      <th></th>\n",
       "      <th>data_de_inicio</th>\n",
       "      <th>frequencia</th>\n",
       "    </tr>\n",
       "  </thead>\n",
       "  <tbody>\n",
       "    <tr>\n",
       "      <th>0</th>\n",
       "      <td>2010</td>\n",
       "      <td>61987</td>\n",
       "    </tr>\n",
       "    <tr>\n",
       "      <th>1</th>\n",
       "      <td>2011</td>\n",
       "      <td>68498</td>\n",
       "    </tr>\n",
       "    <tr>\n",
       "      <th>2</th>\n",
       "      <td>2012</td>\n",
       "      <td>92932</td>\n",
       "    </tr>\n",
       "    <tr>\n",
       "      <th>3</th>\n",
       "      <td>2013</td>\n",
       "      <td>79497</td>\n",
       "    </tr>\n",
       "    <tr>\n",
       "      <th>4</th>\n",
       "      <td>2014</td>\n",
       "      <td>80920</td>\n",
       "    </tr>\n",
       "    <tr>\n",
       "      <th>5</th>\n",
       "      <td>2015</td>\n",
       "      <td>85268</td>\n",
       "    </tr>\n",
       "    <tr>\n",
       "      <th>6</th>\n",
       "      <td>2016</td>\n",
       "      <td>106863</td>\n",
       "    </tr>\n",
       "    <tr>\n",
       "      <th>7</th>\n",
       "      <td>2017</td>\n",
       "      <td>94947</td>\n",
       "    </tr>\n",
       "    <tr>\n",
       "      <th>8</th>\n",
       "      <td>2018</td>\n",
       "      <td>110280</td>\n",
       "    </tr>\n",
       "    <tr>\n",
       "      <th>9</th>\n",
       "      <td>2019</td>\n",
       "      <td>130324</td>\n",
       "    </tr>\n",
       "    <tr>\n",
       "      <th>10</th>\n",
       "      <td>2020</td>\n",
       "      <td>160007</td>\n",
       "    </tr>\n",
       "    <tr>\n",
       "      <th>11</th>\n",
       "      <td>2021</td>\n",
       "      <td>61409</td>\n",
       "    </tr>\n",
       "  </tbody>\n",
       "</table>\n",
       "</div>"
      ],
      "text/plain": [
       "    data_de_inicio  frequencia\n",
       "0             2010       61987\n",
       "1             2011       68498\n",
       "2             2012       92932\n",
       "3             2013       79497\n",
       "4             2014       80920\n",
       "5             2015       85268\n",
       "6             2016      106863\n",
       "7             2017       94947\n",
       "8             2018      110280\n",
       "9             2019      130324\n",
       "10            2020      160007\n",
       "11            2021       61409"
      ]
     },
     "execution_count": 93,
     "metadata": {},
     "output_type": "execute_result"
    }
   ],
   "source": [
    "freq.toPandas()"
   ]
  },
  {
   "cell_type": "code",
   "execution_count": 94,
   "id": "bbf2da92-beb8-46fb-8111-f2031134c7b0",
   "metadata": {},
   "outputs": [
    {
     "name": "stdout",
     "output_type": "stream",
     "text": [
      "+--------------+----------+\n",
      "|data_de_inicio|frequencia|\n",
      "+--------------+----------+\n",
      "|          2010|     61987|\n",
      "|          2011|     68498|\n",
      "|          2012|     92932|\n",
      "|          2013|     79497|\n",
      "|          2014|     80920|\n",
      "|          2015|     85268|\n",
      "|          2016|    106863|\n",
      "|          2017|     94947|\n",
      "|          2018|    110280|\n",
      "|          2019|    130324|\n",
      "|          2020|    160007|\n",
      "|          2021|     61409|\n",
      "|         Total|   1132932|\n",
      "+--------------+----------+\n",
      "\n"
     ]
    }
   ],
   "source": [
    "freq.union(\n",
    "    freq.select(\n",
    "        f.lit('Total').alias('data_de_inicio_2'),\n",
    "        f.sum(freq.frequencia).alias('frequencia_2')\n",
    "    )\n",
    ").show()"
   ]
  },
  {
   "cell_type": "markdown",
   "id": "f77d6d64-b7c6-488b-af20-6f35aa7f0f3b",
   "metadata": {},
   "source": [
    "## SparkSQL"
   ]
  },
  {
   "cell_type": "code",
   "execution_count": 95,
   "id": "7a72be41-8f48-4f84-af93-754799f899b7",
   "metadata": {},
   "outputs": [],
   "source": [
    "empresas_df.createOrReplaceTempView(\"empresasView\")"
   ]
  },
  {
   "cell_type": "code",
   "execution_count": 96,
   "id": "c69f124c-3f36-41dd-b30b-3c15a0f80bb1",
   "metadata": {},
   "outputs": [
    {
     "name": "stdout",
     "output_type": "stream",
     "text": [
      "+-----------+---------------------------------------------------+-----------------+---------------------------+-------------------------+----------------+---------------------------+\n",
      "|cnpj_basico|razao_social_nome_empresarial                      |natureza_juridica|qualificacao_do_responsavel|capital_social_da_empresa|porte_da_empresa|ente_federativo_responsavel|\n",
      "+-----------+---------------------------------------------------+-----------------+---------------------------+-------------------------+----------------+---------------------------+\n",
      "|4519       |DANIELA DA SILVA CRUZ                              |2135             |50                         |0.0                      |5               |NULL                       |\n",
      "|8638       |JOAO DOS SANTOS FAGUNDES                           |2135             |50                         |0.0                      |5               |NULL                       |\n",
      "|11748      |PANIFICADORA E CONFEITARIA CONFIANCA RIO PRETO LTDA|2062             |49                         |0.0                      |1               |NULL                       |\n",
      "|12027      |L G SORVETERIA LTDA                                |2062             |49                         |0.0                      |5               |NULL                       |\n",
      "|13289      |ANDREIA CRISTINA DELSIN EIRELI                     |2305             |65                         |100000.0                 |1               |NULL                       |\n",
      "+-----------+---------------------------------------------------+-----------------+---------------------------+-------------------------+----------------+---------------------------+\n",
      "only showing top 5 rows\n",
      "\n"
     ]
    }
   ],
   "source": [
    "spark.sql(\"SELECT * FROM empresasView\").show(5, False)"
   ]
  },
  {
   "cell_type": "code",
   "execution_count": 97,
   "id": "36b68e15-23e3-40d7-b4c3-a8fed6585eb2",
   "metadata": {},
   "outputs": [
    {
     "name": "stdout",
     "output_type": "stream",
     "text": [
      "+-----------+--------------------------------------------+-----------------+---------------------------+-------------------------+----------------+---------------------------+\n",
      "|cnpj_basico|razao_social_nome_empresarial               |natureza_juridica|qualificacao_do_responsavel|capital_social_da_empresa|porte_da_empresa|ente_federativo_responsavel|\n",
      "+-----------+--------------------------------------------+-----------------+---------------------------+-------------------------+----------------+---------------------------+\n",
      "|14715041   |LIDIANE MARIA DO NASCIMENTO 14542418707     |2135             |50                         |50.0                     |1               |NULL                       |\n",
      "|20601885   |CRISTIANO AKIHITO BORDIN 04370949955        |2135             |50                         |50.0                     |1               |NULL                       |\n",
      "|23661983   |VITOR ALOISIO DO NASCIMENTO GUIA 12663882739|2135             |50                         |50.0                     |1               |NULL                       |\n",
      "|23714726   |JOSELINA PANSINI CORREIA 05265948708        |2135             |50                         |50.0                     |1               |NULL                       |\n",
      "|26022246   |SUZANE SILVA DE OLIVEIRA 06850709992        |2135             |50                         |50.0                     |1               |NULL                       |\n",
      "+-----------+--------------------------------------------+-----------------+---------------------------+-------------------------+----------------+---------------------------+\n",
      "only showing top 5 rows\n",
      "\n"
     ]
    }
   ],
   "source": [
    "spark.sql(\"\"\"\n",
    "    SELECT * FROM empresasView\n",
    "    WHERE capital_social_da_empresa = 50\n",
    "\"\"\").show(5, False)"
   ]
  },
  {
   "cell_type": "code",
   "execution_count": 98,
   "id": "430c4820-567f-4cbd-a521-1c9b72f7cf5d",
   "metadata": {},
   "outputs": [],
   "source": [
    "empresa_join.createOrReplaceTempView('empresaJoinView')"
   ]
  },
  {
   "cell_type": "code",
   "execution_count": 99,
   "id": "fce91661-803b-4baf-8a84-8c30815b56c7",
   "metadata": {},
   "outputs": [
    {
     "name": "stdout",
     "output_type": "stream",
     "text": [
      "+--------------+------+\n",
      "|data_de_inicio| count|\n",
      "+--------------+------+\n",
      "|          2010| 61987|\n",
      "|          2011| 68498|\n",
      "|          2012| 92932|\n",
      "|          2013| 79497|\n",
      "|          2014| 80920|\n",
      "|          2015| 85268|\n",
      "|          2016|106863|\n",
      "|          2017| 94947|\n",
      "|          2018|110280|\n",
      "|          2019|130324|\n",
      "|          2020|160007|\n",
      "|          2021| 61409|\n",
      "+--------------+------+\n",
      "\n"
     ]
    }
   ],
   "source": [
    "freq = spark\\\n",
    "    .sql(\"\"\"\n",
    "        SELECT YEAR(data_de_inicio_atividade) AS data_de_inicio, COUNT(cnpj_basico) AS count\n",
    "            FROM empresaJoinView \n",
    "            WHERE YEAR(data_de_inicio_atividade) >= 2010\n",
    "            GROUP BY data_de_inicio\n",
    "            ORDER BY data_de_inicio\n",
    "    \"\"\")\n",
    "\n",
    "freq\\\n",
    "    .show()"
   ]
  },
  {
   "cell_type": "code",
   "execution_count": 100,
   "id": "f2ec5266-710a-47a5-9800-7eb052dae1e7",
   "metadata": {},
   "outputs": [],
   "source": [
    "freq.createOrReplaceTempView(\"freqView\")"
   ]
  },
  {
   "cell_type": "code",
   "execution_count": 101,
   "id": "65876334-dc2c-4f85-880c-80d9710e70f9",
   "metadata": {},
   "outputs": [
    {
     "name": "stdout",
     "output_type": "stream",
     "text": [
      "+--------------+-------+\n",
      "|data_de_inicio|  count|\n",
      "+--------------+-------+\n",
      "|          2010|  61987|\n",
      "|          2011|  68498|\n",
      "|          2012|  92932|\n",
      "|          2013|  79497|\n",
      "|          2014|  80920|\n",
      "|          2015|  85268|\n",
      "|          2016| 106863|\n",
      "|          2017|  94947|\n",
      "|          2018| 110280|\n",
      "|          2019| 130324|\n",
      "|          2020| 160007|\n",
      "|          2021|  61409|\n",
      "|         Total|1132932|\n",
      "+--------------+-------+\n",
      "\n"
     ]
    }
   ],
   "source": [
    "spark\\\n",
    "    .sql(\"\"\"\n",
    "        SELECT *\n",
    "            FROM freqView\n",
    "        UNION ALL\n",
    "        SELECT 'Total' AS data_de_inicio, SUM(count) AS count\n",
    "            FROM freqView\n",
    "    \"\"\")\\\n",
    "    .show()"
   ]
  },
  {
   "cell_type": "markdown",
   "id": "b4e6fe0c-4272-474a-bb87-38fb8e308ba2",
   "metadata": {},
   "source": [
    "# Formas de armazenamentos"
   ]
  },
  {
   "cell_type": "markdown",
   "id": "6a4d1739-9f8b-4e7e-b04e-82722f6a58d9",
   "metadata": {},
   "source": [
    "## Arquivos CSV"
   ]
  },
  {
   "cell_type": "code",
   "execution_count": 105,
   "id": "8120b445-b6f5-41d7-bc06-29ce3f70c05e",
   "metadata": {},
   "outputs": [],
   "source": [
    "# empresas_df.write.csv(\n",
    "#     path='./datasets/csv_extract',\n",
    "#     mode='overwrite',\n",
    "#     sep=';',\n",
    "#     header=True\n",
    "# )"
   ]
  },
  {
   "cell_type": "code",
   "execution_count": 113,
   "id": "0bff3557-504b-45b3-b377-1b134af5dfd2",
   "metadata": {},
   "outputs": [],
   "source": [
    "# empresas2 = spark.write.csv(\n",
    "#     './datasets/csv_extract',\n",
    "#     sep=';',\n",
    "#     inferSchema=True,\n",
    "#     header=True\n",
    "# )"
   ]
  },
  {
   "cell_type": "code",
   "execution_count": 115,
   "id": "5b8583ad-38e6-45bb-8f9f-3a30e239a87f",
   "metadata": {},
   "outputs": [],
   "source": [
    "# empresas2 = spark.read.csv(\n",
    "#     './datasets/csv_extract/'\n",
    "# )"
   ]
  },
  {
   "cell_type": "markdown",
   "id": "b930c18b-54a9-42c7-a008-0afc736bf5e7",
   "metadata": {},
   "source": [
    "## Arquivos PARQUET"
   ]
  },
  {
   "cell_type": "code",
   "execution_count": 111,
   "id": "7a12c598-fea6-4798-97b2-6ead1dbe2050",
   "metadata": {},
   "outputs": [],
   "source": [
    "# empresas_parquet = spark.write.parquet(\n",
    "#     path='./datasets/parquet_extract',\n",
    "#     mode='overwrite'\n",
    "# )"
   ]
  },
  {
   "cell_type": "code",
   "execution_count": 112,
   "id": "8f91021f-614f-47df-b991-0f950d2b529c",
   "metadata": {},
   "outputs": [],
   "source": [
    "# empresas_parquet = spark.read.parquet(\n",
    "#     './datasets/parquet_extract/'\n",
    "# )\n"
   ]
  }
 ],
 "metadata": {
  "kernelspec": {
   "display_name": "Python 3 (ipykernel)",
   "language": "python",
   "name": "python3"
  },
  "language_info": {
   "codemirror_mode": {
    "name": "ipython",
    "version": 3
   },
   "file_extension": ".py",
   "mimetype": "text/x-python",
   "name": "python",
   "nbconvert_exporter": "python",
   "pygments_lexer": "ipython3",
   "version": "3.11.7"
  }
 },
 "nbformat": 4,
 "nbformat_minor": 5
}
