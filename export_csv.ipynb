{
 "cells": [
  {
   "cell_type": "code",
   "execution_count": 1,
   "id": "118c8f86-831b-4f25-a500-c78a2ca96d73",
   "metadata": {},
   "outputs": [],
   "source": [
    "import pandas as pd\n",
    "import numpy as np"
   ]
  },
  {
   "cell_type": "code",
   "execution_count": 2,
   "id": "05427474-b19e-4fac-8991-2979f905084f",
   "metadata": {},
   "outputs": [],
   "source": [
    "from pyspark.sql import SparkSession\n",
    "from pyspark.sql.types import StructType, StructField, StringType, DoubleType\n",
    "from pyspark.sql import functions as f\n"
   ]
  },
  {
   "cell_type": "code",
   "execution_count": 3,
   "id": "7bb51f34-c7eb-415b-bdcd-d2be6b0a573f",
   "metadata": {},
   "outputs": [
    {
     "data": {
      "text/html": [
       "<style>pre { white-space: pre !important; }</style>"
      ],
      "text/plain": [
       "<IPython.core.display.HTML object>"
      ]
     },
     "metadata": {},
     "output_type": "display_data"
    }
   ],
   "source": [
    "from IPython.core.display import HTML\n",
    "display(HTML(\"<style>pre { white-space: pre !important; }</style>\"))"
   ]
  },
  {
   "cell_type": "code",
   "execution_count": 4,
   "id": "cf00af0a-63e2-42a9-ab52-acb0c32784b6",
   "metadata": {},
   "outputs": [],
   "source": [
    "import os\n",
    "\n",
    "os.environ[\"SPARK_HOME\"] = \"C:/Users/ferna/OneDrive/Documentos/Java/spark-3.5.1-bin-hadoop3/spark-3.5.1-bin-hadoop3/\"\n",
    "\n",
    "os.environ[\"HADOOP_HOME\"] = \"C:/Users/ferna/OneDrive/Documentos/Java/spark-3.5.1-bin-hadoop3/spark-3.5.1-bin-hadoop3/hadoop/\"\n",
    "\n",
    "os.environ['JAVA_HOME'] = \"C:/Program Files/Java/jdk-22\"\n",
    "# C:\\Program Files\\Java\\jdk-22\n",
    "\n"
   ]
  },
  {
   "cell_type": "code",
   "execution_count": 5,
   "id": "bebffedf-4136-47df-9579-c4ff7ba322e3",
   "metadata": {},
   "outputs": [],
   "source": [
    "import findspark\n",
    "findspark.init()"
   ]
  },
  {
   "cell_type": "code",
   "execution_count": 6,
   "id": "cd13219c-ffdd-4faa-9fde-364c72f450a8",
   "metadata": {},
   "outputs": [],
   "source": [
    "# spark = SparkSession.builder \\\n",
    "#             .master('local[*]') \\\n",
    "#             .appName('Iniciando com Spark') \\\n",
    "#             .config('spark.ui.port', '4050') \\\n",
    "#             .getOrCreate()\n",
    "\n",
    "spark = SparkSession.builder.master('local[*]').getOrCreate()"
   ]
  },
  {
   "cell_type": "code",
   "execution_count": 7,
   "id": "382ba4f1-3db3-4e3f-9033-52eeaeabddd3",
   "metadata": {},
   "outputs": [],
   "source": [
    "# D:\\Spark\\spark-3.5.1-bin-hadoop3\\spark-3.5.1-bin-hadoop3"
   ]
  },
  {
   "cell_type": "markdown",
   "id": "df0f0972-26a5-4e0a-aeb3-377fcc8ed587",
   "metadata": {},
   "source": [
    "### Criando uma sessão do PySpark"
   ]
  },
  {
   "cell_type": "code",
   "execution_count": 8,
   "id": "b026935b-2d88-4b27-a526-8be25c4d2005",
   "metadata": {},
   "outputs": [],
   "source": [
    "spark = SparkSession.builder \\\n",
    "            .master('local[*]') \\\n",
    "            .appName('Iniciando com Spark') \\\n",
    "            .config('spark.ui.port', '4050') \\\n",
    "            .getOrCreate()"
   ]
  },
  {
   "cell_type": "code",
   "execution_count": 9,
   "id": "6f394331-ff07-4da1-8cd9-b0ab64c36695",
   "metadata": {},
   "outputs": [],
   "source": [
    "data = [('Zeca', '35'), ('Eva', '29')]\n",
    "colNames = ['Nome', 'Idade']"
   ]
  },
  {
   "cell_type": "code",
   "execution_count": 10,
   "id": "b9da7b1a-4984-46fe-ab33-25395dacd226",
   "metadata": {},
   "outputs": [],
   "source": [
    "df = spark.createDataFrame(data, colNames)"
   ]
  },
  {
   "cell_type": "code",
   "execution_count": 11,
   "id": "7e5bf37e-2e0f-4663-9bd5-bbeb2b949cd6",
   "metadata": {},
   "outputs": [],
   "source": [
    "# pd.to_pa"
   ]
  },
  {
   "cell_type": "code",
   "execution_count": 17,
   "id": "9f4de107-aa3e-445c-be25-72f00cfd3efe",
   "metadata": {},
   "outputs": [],
   "source": [
    "# df.write.csv(\n",
    "#     path='./datasets3',\n",
    "#     mode='overwrite',\n",
    "#     sep=';',\n",
    "#     header=True\n",
    "# )\n",
    "\n",
    "# df.write.parquet(\n",
    "#     path='./datasets6',\n",
    "#     mode='overwrite',\n",
    "# )"
   ]
  }
 ],
 "metadata": {
  "kernelspec": {
   "display_name": "Python 3 (ipykernel)",
   "language": "python",
   "name": "python3"
  },
  "language_info": {
   "codemirror_mode": {
    "name": "ipython",
    "version": 3
   },
   "file_extension": ".py",
   "mimetype": "text/x-python",
   "name": "python",
   "nbconvert_exporter": "python",
   "pygments_lexer": "ipython3",
   "version": "3.11.7"
  }
 },
 "nbformat": 4,
 "nbformat_minor": 5
}
